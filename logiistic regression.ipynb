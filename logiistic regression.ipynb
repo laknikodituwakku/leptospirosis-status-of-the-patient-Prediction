{
 "cells": [
  {
   "cell_type": "markdown",
   "id": "0368c0d2",
   "metadata": {},
   "source": [
    "# Introduction"
   ]
  },
  {
   "cell_type": "markdown",
   "id": "33b8bc28",
   "metadata": {},
   "source": [
    "Leptospirosis is a bacterial infection caused by spirochetes of the genus Leptospira. It is a zoonotic disease, meaning it can be transmitted from animals to humans. The bacteria are commonly found in soil and water, particularly in areas with warm temperatures and high rainfall. Leptospirosis is a global health concern, affecting both humans and a wide range of animals. \n",
    "The symptoms of leptospirosis can vary, but commonly include high fever, headache, muscle aches, chills, vomiting, and red eyes. In severe cases, the infection can lead to organ damage, such as liver or kidney failure, and in rare instances, it can be fatal. Prompt diagnosis and treatment are important to prevent complications and ensure a successful recovery. \n",
    "this project, we will use the leptospirosis_dataset to develop a machine learning model that can predict the leptospirosis status of the patient (1-confirmed, 2-not detected) based on some symptoms, clinical tests, demographic details, etc. We will explore the significance of different variables in predicting the leptospirosis status of the patient and compare the performance of models that include various combinations of variables.\n"
   ]
  },
  {
   "cell_type": "markdown",
   "id": "72fffa06",
   "metadata": {},
   "source": [
    "# Description of the dataset"
   ]
  },
  {
   "cell_type": "markdown",
   "id": "21332c4c",
   "metadata": {},
   "source": [
    "the leptospirosis_dataset contains data of 1387 patients related to leptospirosis and 806 variables. The variable “Final” (last column) reports the leptospirosis status of the patient (1-confirmed, 2-not detected)."
   ]
  },
  {
   "cell_type": "markdown",
   "id": "00f42798",
   "metadata": {},
   "source": [
    "# Data Pre-processing"
   ]
  },
  {
   "cell_type": "code",
   "execution_count": 1,
   "id": "7549a730",
   "metadata": {},
   "outputs": [],
   "source": [
    "import pandas as pd \n",
    "import numpy as np\n",
    "import warnings\n",
    "\n",
    "# Filter out warning messages\n",
    "warnings.filterwarnings(\"ignore\")\n",
    "\n"
   ]
  },
  {
   "cell_type": "code",
   "execution_count": 2,
   "id": "a9825188",
   "metadata": {
    "scrolled": false
   },
   "outputs": [
    {
     "data": {
      "text/html": [
       "<div>\n",
       "<style scoped>\n",
       "    .dataframe tbody tr th:only-of-type {\n",
       "        vertical-align: middle;\n",
       "    }\n",
       "\n",
       "    .dataframe tbody tr th {\n",
       "        vertical-align: top;\n",
       "    }\n",
       "\n",
       "    .dataframe thead th {\n",
       "        text-align: right;\n",
       "    }\n",
       "</style>\n",
       "<table border=\"1\" class=\"dataframe\">\n",
       "  <thead>\n",
       "    <tr style=\"text-align: right;\">\n",
       "      <th></th>\n",
       "      <th>ID</th>\n",
       "      <th>Year</th>\n",
       "      <th>Month</th>\n",
       "      <th>Hospital</th>\n",
       "      <th>Sample</th>\n",
       "      <th>ICU</th>\n",
       "      <th>OPD</th>\n",
       "      <th>Sex</th>\n",
       "      <th>Age</th>\n",
       "      <th>Ethnicity</th>\n",
       "      <th>...</th>\n",
       "      <th>FU_L.interrogansserovarMankarsostr.Mankarso</th>\n",
       "      <th>FU_L.santarosaiserovarGeorgiastr.LT117</th>\n",
       "      <th>FU_L.santarosaiserovarPyrogenesstr.Salinem</th>\n",
       "      <th>FU_L.interrogansserovarBataviaestr.VanTienan</th>\n",
       "      <th>FU_L.interrogansserovarAlexistr.616</th>\n",
       "      <th>FU_L.interrogansserovarAustralisstr.Ballico</th>\n",
       "      <th>FU_L.interrogansserovarwolfiistr.3705</th>\n",
       "      <th>FU_L.interrogansserovarWeerasinghe</th>\n",
       "      <th>FU_Patoc</th>\n",
       "      <th>Final</th>\n",
       "    </tr>\n",
       "  </thead>\n",
       "  <tbody>\n",
       "    <tr>\n",
       "      <th>0</th>\n",
       "      <td>1</td>\n",
       "      <td>2018</td>\n",
       "      <td>11</td>\n",
       "      <td>7</td>\n",
       "      <td>1</td>\n",
       "      <td>2</td>\n",
       "      <td>2</td>\n",
       "      <td>2</td>\n",
       "      <td>53</td>\n",
       "      <td>1</td>\n",
       "      <td>...</td>\n",
       "      <td>NaN</td>\n",
       "      <td>NaN</td>\n",
       "      <td>NaN</td>\n",
       "      <td>NaN</td>\n",
       "      <td>NaN</td>\n",
       "      <td>NaN</td>\n",
       "      <td>NaN</td>\n",
       "      <td>NaN</td>\n",
       "      <td>NaN</td>\n",
       "      <td>2</td>\n",
       "    </tr>\n",
       "    <tr>\n",
       "      <th>1</th>\n",
       "      <td>2</td>\n",
       "      <td>2018</td>\n",
       "      <td>1</td>\n",
       "      <td>7</td>\n",
       "      <td>1</td>\n",
       "      <td>2</td>\n",
       "      <td>2</td>\n",
       "      <td>1</td>\n",
       "      <td>17</td>\n",
       "      <td>1</td>\n",
       "      <td>...</td>\n",
       "      <td>NaN</td>\n",
       "      <td>NaN</td>\n",
       "      <td>NaN</td>\n",
       "      <td>NaN</td>\n",
       "      <td>NaN</td>\n",
       "      <td>NaN</td>\n",
       "      <td>NaN</td>\n",
       "      <td>NaN</td>\n",
       "      <td>NaN</td>\n",
       "      <td>1</td>\n",
       "    </tr>\n",
       "    <tr>\n",
       "      <th>2</th>\n",
       "      <td>3</td>\n",
       "      <td>2018</td>\n",
       "      <td>5</td>\n",
       "      <td>7</td>\n",
       "      <td>1</td>\n",
       "      <td>2</td>\n",
       "      <td>2</td>\n",
       "      <td>1</td>\n",
       "      <td>47</td>\n",
       "      <td>1</td>\n",
       "      <td>...</td>\n",
       "      <td>NaN</td>\n",
       "      <td>NaN</td>\n",
       "      <td>NaN</td>\n",
       "      <td>NaN</td>\n",
       "      <td>NaN</td>\n",
       "      <td>NaN</td>\n",
       "      <td>NaN</td>\n",
       "      <td>NaN</td>\n",
       "      <td>NaN</td>\n",
       "      <td>2</td>\n",
       "    </tr>\n",
       "    <tr>\n",
       "      <th>3</th>\n",
       "      <td>4</td>\n",
       "      <td>2018</td>\n",
       "      <td>1</td>\n",
       "      <td>7</td>\n",
       "      <td>1</td>\n",
       "      <td>2</td>\n",
       "      <td>2</td>\n",
       "      <td>1</td>\n",
       "      <td>21</td>\n",
       "      <td>1</td>\n",
       "      <td>...</td>\n",
       "      <td>NaN</td>\n",
       "      <td>NaN</td>\n",
       "      <td>NaN</td>\n",
       "      <td>NaN</td>\n",
       "      <td>NaN</td>\n",
       "      <td>NaN</td>\n",
       "      <td>NaN</td>\n",
       "      <td>NaN</td>\n",
       "      <td>NaN</td>\n",
       "      <td>2</td>\n",
       "    </tr>\n",
       "    <tr>\n",
       "      <th>4</th>\n",
       "      <td>5</td>\n",
       "      <td>2016</td>\n",
       "      <td>8</td>\n",
       "      <td>7</td>\n",
       "      <td>1</td>\n",
       "      <td>2</td>\n",
       "      <td>1</td>\n",
       "      <td>1</td>\n",
       "      <td>99</td>\n",
       "      <td>1</td>\n",
       "      <td>...</td>\n",
       "      <td>NaN</td>\n",
       "      <td>NaN</td>\n",
       "      <td>NaN</td>\n",
       "      <td>NaN</td>\n",
       "      <td>NaN</td>\n",
       "      <td>NaN</td>\n",
       "      <td>NaN</td>\n",
       "      <td>NaN</td>\n",
       "      <td>NaN</td>\n",
       "      <td>2</td>\n",
       "    </tr>\n",
       "  </tbody>\n",
       "</table>\n",
       "<p>5 rows × 806 columns</p>\n",
       "</div>"
      ],
      "text/plain": [
       "   ID  Year  Month  Hospital  Sample  ICU  OPD  Sex  Age  Ethnicity  ...  \\\n",
       "0   1  2018     11         7       1    2    2    2   53          1  ...   \n",
       "1   2  2018      1         7       1    2    2    1   17          1  ...   \n",
       "2   3  2018      5         7       1    2    2    1   47          1  ...   \n",
       "3   4  2018      1         7       1    2    2    1   21          1  ...   \n",
       "4   5  2016      8         7       1    2    1    1   99          1  ...   \n",
       "\n",
       "   FU_L.interrogansserovarMankarsostr.Mankarso  \\\n",
       "0                                          NaN   \n",
       "1                                          NaN   \n",
       "2                                          NaN   \n",
       "3                                          NaN   \n",
       "4                                          NaN   \n",
       "\n",
       "   FU_L.santarosaiserovarGeorgiastr.LT117  \\\n",
       "0                                     NaN   \n",
       "1                                     NaN   \n",
       "2                                     NaN   \n",
       "3                                     NaN   \n",
       "4                                     NaN   \n",
       "\n",
       "   FU_L.santarosaiserovarPyrogenesstr.Salinem  \\\n",
       "0                                         NaN   \n",
       "1                                         NaN   \n",
       "2                                         NaN   \n",
       "3                                         NaN   \n",
       "4                                         NaN   \n",
       "\n",
       "   FU_L.interrogansserovarBataviaestr.VanTienan  \\\n",
       "0                                           NaN   \n",
       "1                                           NaN   \n",
       "2                                           NaN   \n",
       "3                                           NaN   \n",
       "4                                           NaN   \n",
       "\n",
       "   FU_L.interrogansserovarAlexistr.616  \\\n",
       "0                                  NaN   \n",
       "1                                  NaN   \n",
       "2                                  NaN   \n",
       "3                                  NaN   \n",
       "4                                  NaN   \n",
       "\n",
       "   FU_L.interrogansserovarAustralisstr.Ballico  \\\n",
       "0                                          NaN   \n",
       "1                                          NaN   \n",
       "2                                          NaN   \n",
       "3                                          NaN   \n",
       "4                                          NaN   \n",
       "\n",
       "   FU_L.interrogansserovarwolfiistr.3705  FU_L.interrogansserovarWeerasinghe  \\\n",
       "0                                    NaN                                 NaN   \n",
       "1                                    NaN                                 NaN   \n",
       "2                                    NaN                                 NaN   \n",
       "3                                    NaN                                 NaN   \n",
       "4                                    NaN                                 NaN   \n",
       "\n",
       "   FU_Patoc  Final  \n",
       "0       NaN      2  \n",
       "1       NaN      1  \n",
       "2       NaN      2  \n",
       "3       NaN      2  \n",
       "4       NaN      2  \n",
       "\n",
       "[5 rows x 806 columns]"
      ]
     },
     "execution_count": 2,
     "metadata": {},
     "output_type": "execute_result"
    }
   ],
   "source": [
    "data = pd.read_csv('train.csv')\n",
    "\n",
    "data.head()"
   ]
  },
  {
   "cell_type": "markdown",
   "id": "d652c1a2",
   "metadata": {},
   "source": [
    "##### combine onset illness,day 2 to day 10 and admission illness for each symptom to get the days of each symptom was there for a person"
   ]
  },
  {
   "cell_type": "code",
   "execution_count": 3,
   "id": "fa9b63f6",
   "metadata": {},
   "outputs": [],
   "source": [
    "#onset + 2-10th day + admisson record and name correction\n",
    "col_names = {'Muscletendernessonset': 'Mustenderonset', 'Muscletendernessad':'Mustenderad', 'Vomitingadmission':'Vomitingad','Cnsuffusionad':'Consufad','Cnsuffusiononset':'Consufonset', \n",
    "             'Mucosalrashonset':'Mucorashonset','Mucosalrashad':'Mucorashad', 'Diarrhoeaonset':'diarrheaonset','Diarrhoeaad':'diarrheaad', 'OliguriaAd':'Oliguriaad', 'Haemoptasisonset':'Haemoptysisonset','Haemoptasisad':'Haemoptysisad', \"SOBadd\": 'SOBad' }\n",
    "data.rename(columns = col_names, inplace=True)\n",
    "\n",
    "colnames = ['Headache','Fever','Chills','Rigors','Musclepain','Mustender','Nausea','Vomiting','Consuf','Skinrash','Mucorash','Prostration','diarrhea','Oliguria','Anuria','Jaundice',\n",
    "            'Photophobia','Confusion','Cough','Haemoptysis','SOB','Chestpain','Bleeding']\n",
    "for col in colnames:\n",
    "  df = data[[col+'onset',col + '2',col + '3',col + '4',col + '5',col + '6',col + '7',col + '8',col + '9',col + '10', col + 'ad']]\n",
    "  df = df.replace(99, np.nan)\n",
    "  df['Days'] = None\n",
    "  for index, row in df.iterrows():\n",
    "    if df.loc[index].isna().all() == False:\n",
    "     df.at[index, 'Days'] = df.loc[index].eq(1).sum()\n",
    "    else:\n",
    "     df.at[index, 'Days'] = np.nan\n",
    "  data[col+'Days'] = df['Days'] #the number of days for each symptom.\n",
    "  data.drop([col+'onset',col + '2',col + '3',col + '4',col + '5',col + '6',col + '7',col + '8',col + '9',col + '10', col + 'ad'], axis=1, inplace=True)"
   ]
  },
  {
   "cell_type": "code",
   "execution_count": 4,
   "id": "2e8e4517",
   "metadata": {},
   "outputs": [],
   "source": [
    "#no onset variable for these and have name correction\n",
    "col_names = {'Hepatictendernessad':'hepatictenderad', 'Hepatomegalyad':'hepatomegalyad', 'Spleenimegalyad':'Spleenomegalyad', 'Lympadenopathyad':'Lymphadenopathyad'}\n",
    "data.rename(columns = col_names, inplace=True)\n",
    "colnames = ['hepatictender','hepatomegaly','Spleenomegaly','Lymphadenopathy', 'Neckstiffness']\n",
    "for col in colnames:\n",
    "  df = data[[col + '2',col + '3',col + '4',col + '5',col + '6',col + '7',col + '8',col + '9',col + '10', col + 'ad']]\n",
    "  df = df.replace(99, np.nan)\n",
    "  df['Days'] = None\n",
    "  for index, row in df.iterrows():\n",
    "    if df.loc[index].isna().all() == False:\n",
    "     df.at[index, 'Days'] = df.loc[index].eq(1).sum()\n",
    "    else:\n",
    "     df.at[index, 'Days'] = np.nan\n",
    "  data[col+'Days'] = df['Days']\n",
    "  data.drop([col + '2',col + '3',col + '4',col + '5',col + '6',col + '7',col + '8',col + '9',col + '10', col + 'ad'], axis=1, inplace=True)"
   ]
  },
  {
   "cell_type": "code",
   "execution_count": 5,
   "id": "c9f821c1",
   "metadata": {},
   "outputs": [
    {
     "data": {
      "text/plain": [
       "Year                     0\n",
       "Month                    0\n",
       "Hospital                 0\n",
       "Sample                   0\n",
       "ICU                     83\n",
       "                      ... \n",
       "hepatictenderDays      405\n",
       "hepatomegalyDays       408\n",
       "SpleenomegalyDays      410\n",
       "LymphadenopathyDays    410\n",
       "NeckstiffnessDays      371\n",
       "Length: 530, dtype: int64"
      ]
     },
     "execution_count": 5,
     "metadata": {},
     "output_type": "execute_result"
    }
   ],
   "source": [
    "#drop ID variable since no assoc. with final \n",
    "#many 99 entries into NA\n",
    "data = data.drop('ID', axis=1)\n",
    "data = data.replace(99, np.nan)\n",
    "data.isna().sum()"
   ]
  },
  {
   "cell_type": "code",
   "execution_count": 6,
   "id": "cef60ec8",
   "metadata": {},
   "outputs": [
    {
     "data": {
      "text/plain": [
       "Year                     0\n",
       "Month                    0\n",
       "Hospital                 0\n",
       "Sample                   0\n",
       "ICU                     83\n",
       "                      ... \n",
       "hepatictenderDays      405\n",
       "hepatomegalyDays       408\n",
       "SpleenomegalyDays      410\n",
       "LymphadenopathyDays    410\n",
       "NeckstiffnessDays      371\n",
       "Length: 530, dtype: int64"
      ]
     },
     "execution_count": 6,
     "metadata": {},
     "output_type": "execute_result"
    }
   ],
   "source": [
    "# get rid of missing values,not relevent entries,... \n",
    "data = data.replace('[a-zA-Z]+', np.nan, regex=True) # replaces any alphabetic characters (a-z and A-Z) \n",
    "data = data.replace(' ', np.nan)\n",
    "data = data.fillna(99)  # Replace missing values with 0\n",
    "data = data.astype(np.float64).astype(int) #converts the data type of the DataFrame to np.float64 (float) and then to int.\n",
    "##This conversion is done to remove any decimal places and have integer values in the DataFrame.\n",
    "data = data.astype(int)\n",
    "data[data == 99] = pd.NA #replaces all occurrences of the value 99 with pd.NA (pandas null value) \n",
    "data.isna().sum()"
   ]
  },
  {
   "cell_type": "code",
   "execution_count": 7,
   "id": "eaad9590",
   "metadata": {
    "scrolled": true
   },
   "outputs": [],
   "source": [
    "#data.columns.tolist()"
   ]
  },
  {
   "cell_type": "code",
   "execution_count": 8,
   "id": "66901da0",
   "metadata": {},
   "outputs": [],
   "source": [
    "#combine these variables to get a one variable which whether a person is close to any water source\n",
    "selected_cols = ['HomeStreamrivercanaloranyotherrunningwatersource', \n",
    "                 'WorkplaceStreamrivercanaloranyotherrunningwatersource',\n",
    "                 'Homepondlaketankoranyotherstagnantwatersource',\n",
    "                 'WorkPlacepondlaketankoranyotherstagnantwatersource']\n",
    "       \n",
    "water_source = data[selected_cols]\n",
    "\n",
    "def water_area(row):\n",
    "    if row.isnull().all():\n",
    "        return pd.NA\n",
    "    elif (row == 1).any():\n",
    "        return 1\n",
    "    else:\n",
    "        return 2\n",
    "\n",
    "data['water_source'] = water_source.apply(water_area, axis=1)\n",
    "\n",
    "data.drop(selected_cols, axis=1, inplace=True)\n"
   ]
  },
  {
   "cell_type": "code",
   "execution_count": 9,
   "id": "3c3ab709",
   "metadata": {},
   "outputs": [],
   "source": [
    "#to get the some animals are close from anywhere"
   ]
  },
  {
   "cell_type": "code",
   "execution_count": 10,
   "id": "91760818",
   "metadata": {
    "scrolled": true
   },
   "outputs": [
    {
     "name": "stdout",
     "output_type": "stream",
     "text": [
      "<class 'pandas.core.frame.DataFrame'>\n",
      "RangeIndex: 1387 entries, 0 to 1386\n",
      "Columns: 530 entries, Year to Cattle\n",
      "dtypes: float64(523), int32(6), object(1)\n",
      "memory usage: 5.6+ MB\n"
     ]
    }
   ],
   "source": [
    "animal1 = ['Rat', 'Dog', 'Cattle']\n",
    "\n",
    "for col in animal1:\n",
    "  data[col] =data[col + 'home'] +data[col + 'Workplace'] + data[col + 'Neighbourhood']\n",
    "\n",
    "data.info()"
   ]
  },
  {
   "cell_type": "code",
   "execution_count": 11,
   "id": "1ac1d1be",
   "metadata": {},
   "outputs": [],
   "source": [
    "data['urumeeya'] = data['Urumeeyahome'] + data['Urumeeyaworkplace'] + data['UrimeeyaNeighbourhood']\n",
    "data['otherRhodents'] = data['OtherrhodentsHome'] + data['OtherRhoddentsWorkplace'] + data['OtherRhodentsNeighbourhood']\n",
    "\n",
    "data.drop(['UrimeeyaNeighbourhood','Urumeeyahome','Urumeeyaworkplace', 'OtherrhodentsHome', 'OtherRhoddentsWorkplace', 'OtherRhodentsNeighbourhood'], axis = 1, inplace=True)"
   ]
  },
  {
   "cell_type": "code",
   "execution_count": 12,
   "id": "9aa728cc",
   "metadata": {},
   "outputs": [],
   "source": [
    "    \n",
    "animal3 = ['Pig','Goat']\n",
    "for col3 in animal3:\n",
    "    data[col3] = data[col3 + 'Home'] +data[col3 + 'Workplace'] + data[col3 + 'Neighbourhood']\n",
    "  \n",
    "data.drop(['Rathome','RatWorkplace','RatNeighbourhood','Cathome','Catworkplace',\n",
    "           'CatNeighbourhood','Doghome','DogWorkplace','DogNeighbourhood',\n",
    "           'Cattlehome','CattleWorkplace','CattleNeighbourhood','PigHome',\n",
    "           'PigWorkplace','PigNeighbourhood','GoatHome','GoatWorkplace',\n",
    "           'GoatNeighbourhood'], axis = 1, inplace = True)\n"
   ]
  },
  {
   "cell_type": "code",
   "execution_count": 13,
   "id": "b934ce6d",
   "metadata": {},
   "outputs": [
    {
     "name": "stdout",
     "output_type": "stream",
     "text": [
      "<class 'pandas.core.frame.DataFrame'>\n",
      "RangeIndex: 1387 entries, 0 to 1386\n",
      "Columns: 510 entries, Year to Goat\n",
      "dtypes: float64(503), int32(6), object(1)\n",
      "memory usage: 5.4+ MB\n"
     ]
    }
   ],
   "source": [
    "data.info()"
   ]
  },
  {
   "cell_type": "raw",
   "id": "3ae7caa5",
   "metadata": {},
   "source": [
    "data.to_csv('train_before_imp4.csv', index=False)"
   ]
  },
  {
   "cell_type": "code",
   "execution_count": 14,
   "id": "cf5aab20",
   "metadata": {
    "scrolled": true
   },
   "outputs": [],
   "source": [
    "#data.columns.tolist()"
   ]
  },
  {
   "cell_type": "code",
   "execution_count": 15,
   "id": "70d05fe5",
   "metadata": {
    "scrolled": true
   },
   "outputs": [
    {
     "name": "stdout",
     "output_type": "stream",
     "text": [
      "<class 'pandas.core.frame.DataFrame'>\n",
      "RangeIndex: 1387 entries, 0 to 1386\n",
      "Data columns (total 94 columns):\n",
      " #   Column                       Non-Null Count  Dtype  \n",
      "---  ------                       --------------  -----  \n",
      " 0   Year                         1387 non-null   int32  \n",
      " 1   Month                        1387 non-null   int32  \n",
      " 2   Hospital                     1387 non-null   int32  \n",
      " 3   Sample                       1387 non-null   int32  \n",
      " 4   ICU                          1304 non-null   float64\n",
      " 5   OPD                          1304 non-null   float64\n",
      " 6   Sex                          1242 non-null   float64\n",
      " 7   Age                          1217 non-null   float64\n",
      " 8   Ethnicity                    1242 non-null   float64\n",
      " 9   Income                       851 non-null    float64\n",
      " 10  Education                    1027 non-null   float64\n",
      " 11  TertiaryEducation            1027 non-null   float64\n",
      " 12  Prophylactics                1084 non-null   float64\n",
      " 13  Pasttreatments               1088 non-null   float64\n",
      " 14  Pastantibiotics              1086 non-null   float64\n",
      " 15  Chronicillness               1068 non-null   float64\n",
      " 16  Possibleexposure             1078 non-null   float64\n",
      " 17  Usualdrinkingwatersource     421 non-null    float64\n",
      " 18  Usualbathingwatersource      423 non-null    float64\n",
      " 19  Sourceofwaterforhousehold    421 non-null    float64\n",
      " 20  Garbagedisposalprocedure     420 non-null    float64\n",
      " 21  Accumilationofrefusal        421 non-null    float64\n",
      " 22  Marshlandexposure            437 non-null    float64\n",
      " 23  Wetsoilexposure              433 non-null    float64\n",
      " 24  Floodexposure                448 non-null    float64\n",
      " 25  Forestexposure               436 non-null    float64\n",
      " 26  BushesExposure               437 non-null    float64\n",
      " 27  Otheragriexposure            435 non-null    float64\n",
      " 28  Gardeningexposure            438 non-null    float64\n",
      " 29  Otheroutdoorworkexposure     433 non-null    float64\n",
      " 30  Naturalrunningwaterexposure  439 non-null    float64\n",
      " 31  Stagnantwaterexposure        437 non-null    float64\n",
      " 32  Manmaderunningwaterexposure  437 non-null    float64\n",
      " 33  Drainsexposure               437 non-null    float64\n",
      " 34  Otherwaterexposure           436 non-null    float64\n",
      " 35  Paddyfieldexposure           439 non-null    float64\n",
      " 36  CattleHandle                 421 non-null    float64\n",
      " 37  BuffaloHandle                422 non-null    float64\n",
      " 38  Goathandle                   422 non-null    float64\n",
      " 39  Pighandle                    421 non-null    float64\n",
      " 40  Cathandle                    418 non-null    float64\n",
      " 41  Doghandle                    418 non-null    float64\n",
      " 42  Psychoticsymptomsonset       1030 non-null   float64\n",
      " 43  Psychoticsymptomsad          943 non-null    float64\n",
      " 44  PRad                         586 non-null    float64\n",
      " 45  SBPadd                       591 non-null    float64\n",
      " 46  DBPadd                       591 non-null    float64\n",
      " 47  WBCcount                     949 non-null    float64\n",
      " 48  Ncount                       745 non-null    float64\n",
      " 49  N                            745 non-null    float64\n",
      " 50  Lcount                       722 non-null    float64\n",
      " 51  L                            751 non-null    float64\n",
      " 52  Plateletcount                750 non-null    float64\n",
      " 53  PCV                          737 non-null    float64\n",
      " 54  RBC                          628 non-null    float64\n",
      " 55  Na                           492 non-null    float64\n",
      " 56  K                            483 non-null    float64\n",
      " 57  AST                          511 non-null    float64\n",
      " 58  ALT                          515 non-null    float64\n",
      " 59  S.creatinine                 491 non-null    float64\n",
      " 60  WBC_first_day                852 non-null    float64\n",
      " 61  WPqPCRDiagnosis              1155 non-null   float64\n",
      " 62  UrineqPCRDiagnosis           509 non-null    float64\n",
      " 63  Isolate                      1387 non-null   int32  \n",
      " 64  MAT_set_1                    799 non-null    float64\n",
      " 65  Final                        1387 non-null   int32  \n",
      " 66  HeadacheDays                 1075 non-null   float64\n",
      " 67  FeverDays                    1076 non-null   float64\n",
      " 68  ChillsDays                   1075 non-null   float64\n",
      " 69  RigorsDays                   1076 non-null   float64\n",
      " 70  MusclepainDays               1077 non-null   float64\n",
      " 71  MustenderDays                1078 non-null   float64\n",
      " 72  NauseaDays                   1077 non-null   float64\n",
      " 73  VomitingDays                 1077 non-null   float64\n",
      " 74  ConsufDays                   1077 non-null   float64\n",
      " 75  SkinrashDays                 1077 non-null   float64\n",
      " 76  MucorashDays                 1076 non-null   float64\n",
      " 77  ProstrationDays              1077 non-null   float64\n",
      " 78  diarrheaDays                 1077 non-null   float64\n",
      " 79  OliguriaDays                 1077 non-null   float64\n",
      " 80  AnuriaDays                   1075 non-null   float64\n",
      " 81  JaundiceDays                 1076 non-null   float64\n",
      " 82  PhotophobiaDays              1076 non-null   float64\n",
      " 83  ConfusionDays                1076 non-null   float64\n",
      " 84  CoughDays                    1076 non-null   float64\n",
      " 85  HaemoptysisDays              1077 non-null   float64\n",
      " 86  SOBDays                      1076 non-null   float64\n",
      " 87  ChestpainDays                1076 non-null   float64\n",
      " 88  BleedingDays                 1069 non-null   float64\n",
      " 89  hepatictenderDays            982 non-null    float64\n",
      " 90  hepatomegalyDays             979 non-null    float64\n",
      " 91  SpleenomegalyDays            977 non-null    float64\n",
      " 92  LymphadenopathyDays          977 non-null    float64\n",
      " 93  NeckstiffnessDays            1016 non-null   float64\n",
      "dtypes: float64(88), int32(6)\n",
      "memory usage: 986.2 KB\n"
     ]
    }
   ],
   "source": [
    "missing_percentage = data.isna().mean() * 100\n",
    "\n",
    "#columns to drop based on the threshold\n",
    "columns_to_drop_1 = missing_percentage[missing_percentage > 70].index\n",
    "\n",
    "# Drop columns with more than 70% missing values\n",
    "data = data.drop(columns_to_drop_1, axis=1)\n",
    "data.info()"
   ]
  },
  {
   "cell_type": "code",
   "execution_count": 16,
   "id": "0f05e857",
   "metadata": {},
   "outputs": [],
   "source": [
    "#to get handling any animal"
   ]
  },
  {
   "cell_type": "code",
   "execution_count": 17,
   "id": "d574bcc7",
   "metadata": {},
   "outputs": [],
   "source": [
    "data = data.rename(columns={'CattleHandle':'handleCattle','BuffaloHandle':'handleBuffalo','Goathandle':'handleGoat','Pighandle':'handlePig','Doghandle':'handleDog','Cathandle':'handleCat'})\n"
   ]
  },
  {
   "cell_type": "code",
   "execution_count": 18,
   "id": "267ab6b6",
   "metadata": {
    "scrolled": true
   },
   "outputs": [
    {
     "name": "stdout",
     "output_type": "stream",
     "text": [
      "<class 'pandas.core.frame.DataFrame'>\n",
      "RangeIndex: 1387 entries, 0 to 1386\n",
      "Data columns (total 94 columns):\n",
      " #   Column                       Non-Null Count  Dtype  \n",
      "---  ------                       --------------  -----  \n",
      " 0   Year                         1387 non-null   int32  \n",
      " 1   Month                        1387 non-null   int32  \n",
      " 2   Hospital                     1387 non-null   int32  \n",
      " 3   Sample                       1387 non-null   int32  \n",
      " 4   ICU                          1304 non-null   float64\n",
      " 5   OPD                          1304 non-null   float64\n",
      " 6   Sex                          1242 non-null   float64\n",
      " 7   Age                          1217 non-null   float64\n",
      " 8   Ethnicity                    1242 non-null   float64\n",
      " 9   Income                       851 non-null    float64\n",
      " 10  Education                    1027 non-null   float64\n",
      " 11  TertiaryEducation            1027 non-null   float64\n",
      " 12  Prophylactics                1084 non-null   float64\n",
      " 13  Pasttreatments               1088 non-null   float64\n",
      " 14  Pastantibiotics              1086 non-null   float64\n",
      " 15  Chronicillness               1068 non-null   float64\n",
      " 16  Possibleexposure             1078 non-null   float64\n",
      " 17  Usualdrinkingwatersource     421 non-null    float64\n",
      " 18  Usualbathingwatersource      423 non-null    float64\n",
      " 19  Sourceofwaterforhousehold    421 non-null    float64\n",
      " 20  Garbagedisposalprocedure     420 non-null    float64\n",
      " 21  Accumilationofrefusal        421 non-null    float64\n",
      " 22  Marshlandexposure            437 non-null    float64\n",
      " 23  Wetsoilexposure              433 non-null    float64\n",
      " 24  Floodexposure                448 non-null    float64\n",
      " 25  Forestexposure               436 non-null    float64\n",
      " 26  BushesExposure               437 non-null    float64\n",
      " 27  Otheragriexposure            435 non-null    float64\n",
      " 28  Gardeningexposure            438 non-null    float64\n",
      " 29  Otheroutdoorworkexposure     433 non-null    float64\n",
      " 30  Naturalrunningwaterexposure  439 non-null    float64\n",
      " 31  Stagnantwaterexposure        437 non-null    float64\n",
      " 32  Manmaderunningwaterexposure  437 non-null    float64\n",
      " 33  Drainsexposure               437 non-null    float64\n",
      " 34  Otherwaterexposure           436 non-null    float64\n",
      " 35  Paddyfieldexposure           439 non-null    float64\n",
      " 36  handleCattle                 421 non-null    float64\n",
      " 37  handleBuffalo                422 non-null    float64\n",
      " 38  handleGoat                   422 non-null    float64\n",
      " 39  handlePig                    421 non-null    float64\n",
      " 40  handleCat                    418 non-null    float64\n",
      " 41  handleDog                    418 non-null    float64\n",
      " 42  Psychoticsymptomsonset       1030 non-null   float64\n",
      " 43  Psychoticsymptomsad          943 non-null    float64\n",
      " 44  PRad                         586 non-null    float64\n",
      " 45  SBPadd                       591 non-null    float64\n",
      " 46  DBPadd                       591 non-null    float64\n",
      " 47  WBCcount                     949 non-null    float64\n",
      " 48  Ncount                       745 non-null    float64\n",
      " 49  N                            745 non-null    float64\n",
      " 50  Lcount                       722 non-null    float64\n",
      " 51  L                            751 non-null    float64\n",
      " 52  Plateletcount                750 non-null    float64\n",
      " 53  PCV                          737 non-null    float64\n",
      " 54  RBC                          628 non-null    float64\n",
      " 55  Na                           492 non-null    float64\n",
      " 56  K                            483 non-null    float64\n",
      " 57  AST                          511 non-null    float64\n",
      " 58  ALT                          515 non-null    float64\n",
      " 59  S.creatinine                 491 non-null    float64\n",
      " 60  WBC_first_day                852 non-null    float64\n",
      " 61  WPqPCRDiagnosis              1155 non-null   float64\n",
      " 62  UrineqPCRDiagnosis           509 non-null    float64\n",
      " 63  Isolate                      1387 non-null   int32  \n",
      " 64  MAT_set_1                    799 non-null    float64\n",
      " 65  Final                        1387 non-null   int32  \n",
      " 66  HeadacheDays                 1075 non-null   float64\n",
      " 67  FeverDays                    1076 non-null   float64\n",
      " 68  ChillsDays                   1075 non-null   float64\n",
      " 69  RigorsDays                   1076 non-null   float64\n",
      " 70  MusclepainDays               1077 non-null   float64\n",
      " 71  MustenderDays                1078 non-null   float64\n",
      " 72  NauseaDays                   1077 non-null   float64\n",
      " 73  VomitingDays                 1077 non-null   float64\n",
      " 74  ConsufDays                   1077 non-null   float64\n",
      " 75  SkinrashDays                 1077 non-null   float64\n",
      " 76  MucorashDays                 1076 non-null   float64\n",
      " 77  ProstrationDays              1077 non-null   float64\n",
      " 78  diarrheaDays                 1077 non-null   float64\n",
      " 79  OliguriaDays                 1077 non-null   float64\n",
      " 80  AnuriaDays                   1075 non-null   float64\n",
      " 81  JaundiceDays                 1076 non-null   float64\n",
      " 82  PhotophobiaDays              1076 non-null   float64\n",
      " 83  ConfusionDays                1076 non-null   float64\n",
      " 84  CoughDays                    1076 non-null   float64\n",
      " 85  HaemoptysisDays              1077 non-null   float64\n",
      " 86  SOBDays                      1076 non-null   float64\n",
      " 87  ChestpainDays                1076 non-null   float64\n",
      " 88  BleedingDays                 1069 non-null   float64\n",
      " 89  hepatictenderDays            982 non-null    float64\n",
      " 90  hepatomegalyDays             979 non-null    float64\n",
      " 91  SpleenomegalyDays            977 non-null    float64\n",
      " 92  LymphadenopathyDays          977 non-null    float64\n",
      " 93  NeckstiffnessDays            1016 non-null   float64\n",
      "dtypes: float64(88), int32(6)\n",
      "memory usage: 986.2 KB\n"
     ]
    }
   ],
   "source": [
    "data.info()"
   ]
  },
  {
   "cell_type": "code",
   "execution_count": 19,
   "id": "7009c4e5",
   "metadata": {},
   "outputs": [],
   "source": [
    "animal = ['Cattle', 'Buffalo', 'Goat', 'Pig', 'Cat', 'Dog']\n",
    "animal_handle = data[['handle' + col for col in animal]]\n",
    "\n",
    "def handle(row):\n",
    "    if row.isnull().all():\n",
    "        return pd.NA\n",
    "    elif (row == 1).any():\n",
    "        return 1\n",
    "    else:\n",
    "        return 2\n",
    "\n",
    "data['animal_handle'] = animal_handle.apply(handle, axis=1)\n",
    "\n",
    "data.drop(['handle' + col for col in animal], axis=1, inplace=True)\n"
   ]
  },
  {
   "cell_type": "code",
   "execution_count": 20,
   "id": "1e2d056a",
   "metadata": {
    "scrolled": true
   },
   "outputs": [
    {
     "name": "stdout",
     "output_type": "stream",
     "text": [
      "<class 'pandas.core.frame.DataFrame'>\n",
      "RangeIndex: 1387 entries, 0 to 1386\n",
      "Data columns (total 89 columns):\n",
      " #   Column                       Non-Null Count  Dtype  \n",
      "---  ------                       --------------  -----  \n",
      " 0   Year                         1387 non-null   int32  \n",
      " 1   Month                        1387 non-null   int32  \n",
      " 2   Hospital                     1387 non-null   int32  \n",
      " 3   Sample                       1387 non-null   int32  \n",
      " 4   ICU                          1304 non-null   float64\n",
      " 5   OPD                          1304 non-null   float64\n",
      " 6   Sex                          1242 non-null   float64\n",
      " 7   Age                          1217 non-null   float64\n",
      " 8   Ethnicity                    1242 non-null   float64\n",
      " 9   Income                       851 non-null    float64\n",
      " 10  Education                    1027 non-null   float64\n",
      " 11  TertiaryEducation            1027 non-null   float64\n",
      " 12  Prophylactics                1084 non-null   float64\n",
      " 13  Pasttreatments               1088 non-null   float64\n",
      " 14  Pastantibiotics              1086 non-null   float64\n",
      " 15  Chronicillness               1068 non-null   float64\n",
      " 16  Possibleexposure             1078 non-null   float64\n",
      " 17  Usualdrinkingwatersource     421 non-null    float64\n",
      " 18  Usualbathingwatersource      423 non-null    float64\n",
      " 19  Sourceofwaterforhousehold    421 non-null    float64\n",
      " 20  Garbagedisposalprocedure     420 non-null    float64\n",
      " 21  Accumilationofrefusal        421 non-null    float64\n",
      " 22  Marshlandexposure            437 non-null    float64\n",
      " 23  Wetsoilexposure              433 non-null    float64\n",
      " 24  Floodexposure                448 non-null    float64\n",
      " 25  Forestexposure               436 non-null    float64\n",
      " 26  BushesExposure               437 non-null    float64\n",
      " 27  Otheragriexposure            435 non-null    float64\n",
      " 28  Gardeningexposure            438 non-null    float64\n",
      " 29  Otheroutdoorworkexposure     433 non-null    float64\n",
      " 30  Naturalrunningwaterexposure  439 non-null    float64\n",
      " 31  Stagnantwaterexposure        437 non-null    float64\n",
      " 32  Manmaderunningwaterexposure  437 non-null    float64\n",
      " 33  Drainsexposure               437 non-null    float64\n",
      " 34  Otherwaterexposure           436 non-null    float64\n",
      " 35  Paddyfieldexposure           439 non-null    float64\n",
      " 36  Psychoticsymptomsonset       1030 non-null   float64\n",
      " 37  Psychoticsymptomsad          943 non-null    float64\n",
      " 38  PRad                         586 non-null    float64\n",
      " 39  SBPadd                       591 non-null    float64\n",
      " 40  DBPadd                       591 non-null    float64\n",
      " 41  WBCcount                     949 non-null    float64\n",
      " 42  Ncount                       745 non-null    float64\n",
      " 43  N                            745 non-null    float64\n",
      " 44  Lcount                       722 non-null    float64\n",
      " 45  L                            751 non-null    float64\n",
      " 46  Plateletcount                750 non-null    float64\n",
      " 47  PCV                          737 non-null    float64\n",
      " 48  RBC                          628 non-null    float64\n",
      " 49  Na                           492 non-null    float64\n",
      " 50  K                            483 non-null    float64\n",
      " 51  AST                          511 non-null    float64\n",
      " 52  ALT                          515 non-null    float64\n",
      " 53  S.creatinine                 491 non-null    float64\n",
      " 54  WBC_first_day                852 non-null    float64\n",
      " 55  WPqPCRDiagnosis              1155 non-null   float64\n",
      " 56  UrineqPCRDiagnosis           509 non-null    float64\n",
      " 57  Isolate                      1387 non-null   int32  \n",
      " 58  MAT_set_1                    799 non-null    float64\n",
      " 59  Final                        1387 non-null   int32  \n",
      " 60  HeadacheDays                 1075 non-null   float64\n",
      " 61  FeverDays                    1076 non-null   float64\n",
      " 62  ChillsDays                   1075 non-null   float64\n",
      " 63  RigorsDays                   1076 non-null   float64\n",
      " 64  MusclepainDays               1077 non-null   float64\n",
      " 65  MustenderDays                1078 non-null   float64\n",
      " 66  NauseaDays                   1077 non-null   float64\n",
      " 67  VomitingDays                 1077 non-null   float64\n",
      " 68  ConsufDays                   1077 non-null   float64\n",
      " 69  SkinrashDays                 1077 non-null   float64\n",
      " 70  MucorashDays                 1076 non-null   float64\n",
      " 71  ProstrationDays              1077 non-null   float64\n",
      " 72  diarrheaDays                 1077 non-null   float64\n",
      " 73  OliguriaDays                 1077 non-null   float64\n",
      " 74  AnuriaDays                   1075 non-null   float64\n",
      " 75  JaundiceDays                 1076 non-null   float64\n",
      " 76  PhotophobiaDays              1076 non-null   float64\n",
      " 77  ConfusionDays                1076 non-null   float64\n",
      " 78  CoughDays                    1076 non-null   float64\n",
      " 79  HaemoptysisDays              1077 non-null   float64\n",
      " 80  SOBDays                      1076 non-null   float64\n",
      " 81  ChestpainDays                1076 non-null   float64\n",
      " 82  BleedingDays                 1069 non-null   float64\n",
      " 83  hepatictenderDays            982 non-null    float64\n",
      " 84  hepatomegalyDays             979 non-null    float64\n",
      " 85  SpleenomegalyDays            977 non-null    float64\n",
      " 86  LymphadenopathyDays          977 non-null    float64\n",
      " 87  NeckstiffnessDays            1016 non-null   float64\n",
      " 88  animal_handle                422 non-null    object \n",
      "dtypes: float64(82), int32(6), object(1)\n",
      "memory usage: 932.0+ KB\n"
     ]
    }
   ],
   "source": [
    "data.info()"
   ]
  },
  {
   "cell_type": "code",
   "execution_count": 21,
   "id": "1fa4df7e",
   "metadata": {},
   "outputs": [],
   "source": [
    "#to get whether a person had any outdoor exposure"
   ]
  },
  {
   "cell_type": "code",
   "execution_count": 22,
   "id": "fa7c752a",
   "metadata": {},
   "outputs": [],
   "source": [
    "data = data.rename(columns={'BushesExposure': 'Bushesexposure'})\n",
    "\n",
    "outdoor = ['Marshland', 'Wetsoil', 'Flood', 'Forest', 'Bushes', 'Otheragri', 'Gardening',\n",
    "           'Otheroutdoorwork', 'Naturalrunningwater', 'Stagnantwater', 'Manmaderunningwater',\n",
    "           'Drains', 'Otherwater', 'Paddyfield']\n",
    "\n",
    "any_outdoor_exposure = data[[col + 'exposure' for col in outdoor]]\n",
    "\n",
    "def exposure(row):\n",
    "    if row.isnull().all():\n",
    "        return pd.NA\n",
    "    elif (row == 1).any():\n",
    "        return 1\n",
    "    else:\n",
    "        return 2\n",
    "\n",
    "data['any_outdoor_exposure'] = any_outdoor_exposure.apply(exposure, axis=1)\n",
    "\n",
    "data.drop([col + 'exposure' for col in outdoor], axis=1, inplace=True)\n"
   ]
  },
  {
   "cell_type": "code",
   "execution_count": 23,
   "id": "42535943",
   "metadata": {
    "scrolled": true
   },
   "outputs": [
    {
     "name": "stdout",
     "output_type": "stream",
     "text": [
      "<class 'pandas.core.frame.DataFrame'>\n",
      "RangeIndex: 1387 entries, 0 to 1386\n",
      "Data columns (total 76 columns):\n",
      " #   Column                     Non-Null Count  Dtype  \n",
      "---  ------                     --------------  -----  \n",
      " 0   Year                       1387 non-null   int32  \n",
      " 1   Month                      1387 non-null   int32  \n",
      " 2   Hospital                   1387 non-null   int32  \n",
      " 3   Sample                     1387 non-null   int32  \n",
      " 4   ICU                        1304 non-null   float64\n",
      " 5   OPD                        1304 non-null   float64\n",
      " 6   Sex                        1242 non-null   float64\n",
      " 7   Age                        1217 non-null   float64\n",
      " 8   Ethnicity                  1242 non-null   float64\n",
      " 9   Income                     851 non-null    float64\n",
      " 10  Education                  1027 non-null   float64\n",
      " 11  TertiaryEducation          1027 non-null   float64\n",
      " 12  Prophylactics              1084 non-null   float64\n",
      " 13  Pasttreatments             1088 non-null   float64\n",
      " 14  Pastantibiotics            1086 non-null   float64\n",
      " 15  Chronicillness             1068 non-null   float64\n",
      " 16  Possibleexposure           1078 non-null   float64\n",
      " 17  Usualdrinkingwatersource   421 non-null    float64\n",
      " 18  Usualbathingwatersource    423 non-null    float64\n",
      " 19  Sourceofwaterforhousehold  421 non-null    float64\n",
      " 20  Garbagedisposalprocedure   420 non-null    float64\n",
      " 21  Accumilationofrefusal      421 non-null    float64\n",
      " 22  Psychoticsymptomsonset     1030 non-null   float64\n",
      " 23  Psychoticsymptomsad        943 non-null    float64\n",
      " 24  PRad                       586 non-null    float64\n",
      " 25  SBPadd                     591 non-null    float64\n",
      " 26  DBPadd                     591 non-null    float64\n",
      " 27  WBCcount                   949 non-null    float64\n",
      " 28  Ncount                     745 non-null    float64\n",
      " 29  N                          745 non-null    float64\n",
      " 30  Lcount                     722 non-null    float64\n",
      " 31  L                          751 non-null    float64\n",
      " 32  Plateletcount              750 non-null    float64\n",
      " 33  PCV                        737 non-null    float64\n",
      " 34  RBC                        628 non-null    float64\n",
      " 35  Na                         492 non-null    float64\n",
      " 36  K                          483 non-null    float64\n",
      " 37  AST                        511 non-null    float64\n",
      " 38  ALT                        515 non-null    float64\n",
      " 39  S.creatinine               491 non-null    float64\n",
      " 40  WBC_first_day              852 non-null    float64\n",
      " 41  WPqPCRDiagnosis            1155 non-null   float64\n",
      " 42  UrineqPCRDiagnosis         509 non-null    float64\n",
      " 43  Isolate                    1387 non-null   int32  \n",
      " 44  MAT_set_1                  799 non-null    float64\n",
      " 45  Final                      1387 non-null   int32  \n",
      " 46  HeadacheDays               1075 non-null   float64\n",
      " 47  FeverDays                  1076 non-null   float64\n",
      " 48  ChillsDays                 1075 non-null   float64\n",
      " 49  RigorsDays                 1076 non-null   float64\n",
      " 50  MusclepainDays             1077 non-null   float64\n",
      " 51  MustenderDays              1078 non-null   float64\n",
      " 52  NauseaDays                 1077 non-null   float64\n",
      " 53  VomitingDays               1077 non-null   float64\n",
      " 54  ConsufDays                 1077 non-null   float64\n",
      " 55  SkinrashDays               1077 non-null   float64\n",
      " 56  MucorashDays               1076 non-null   float64\n",
      " 57  ProstrationDays            1077 non-null   float64\n",
      " 58  diarrheaDays               1077 non-null   float64\n",
      " 59  OliguriaDays               1077 non-null   float64\n",
      " 60  AnuriaDays                 1075 non-null   float64\n",
      " 61  JaundiceDays               1076 non-null   float64\n",
      " 62  PhotophobiaDays            1076 non-null   float64\n",
      " 63  ConfusionDays              1076 non-null   float64\n",
      " 64  CoughDays                  1076 non-null   float64\n",
      " 65  HaemoptysisDays            1077 non-null   float64\n",
      " 66  SOBDays                    1076 non-null   float64\n",
      " 67  ChestpainDays              1076 non-null   float64\n",
      " 68  BleedingDays               1069 non-null   float64\n",
      " 69  hepatictenderDays          982 non-null    float64\n",
      " 70  hepatomegalyDays           979 non-null    float64\n",
      " 71  SpleenomegalyDays          977 non-null    float64\n",
      " 72  LymphadenopathyDays        977 non-null    float64\n",
      " 73  NeckstiffnessDays          1016 non-null   float64\n",
      " 74  animal_handle              422 non-null    object \n",
      " 75  any_outdoor_exposure       456 non-null    object \n",
      "dtypes: float64(68), int32(6), object(2)\n",
      "memory usage: 791.1+ KB\n"
     ]
    }
   ],
   "source": [
    "data.info()"
   ]
  },
  {
   "cell_type": "raw",
   "id": "ba41dbe3",
   "metadata": {},
   "source": [
    "data.to_csv('train_before_imp2.csv', index=False)"
   ]
  },
  {
   "cell_type": "code",
   "execution_count": 24,
   "id": "f81ab2eb",
   "metadata": {},
   "outputs": [],
   "source": [
    "#Dont know whether 99 is NA or actual value\n",
    "drop_cols = ['PRad','SBPadd','DBPadd','N','L','PCV','Na','K','AST','ALT','S.creatinine','WBC_first_day']\n",
    "data.drop(drop_cols, axis=1, inplace=True)\n",
    "\n",
    "#all entries are 1 --> no variation\n",
    "data = data.drop('MAT_set_1', axis=1)\n",
    "\n",
    "#isolate var has 98 as missing values\n",
    "data['Isolate'] = data['Isolate'].replace(98, np.nan)\n"
   ]
  },
  {
   "cell_type": "code",
   "execution_count": 25,
   "id": "675bb3e8",
   "metadata": {
    "scrolled": true
   },
   "outputs": [],
   "source": [
    "#data.columns.tolist()"
   ]
  },
  {
   "cell_type": "code",
   "execution_count": 26,
   "id": "2b014c18",
   "metadata": {},
   "outputs": [
    {
     "data": {
      "text/plain": [
       "24795"
      ]
     },
     "execution_count": 26,
     "metadata": {},
     "output_type": "execute_result"
    }
   ],
   "source": [
    "# Get the number of NaN values in the DataFrame\n",
    "nan_count = data.isna().sum().sum()\n",
    "nan_count"
   ]
  },
  {
   "cell_type": "code",
   "execution_count": 27,
   "id": "7702a213",
   "metadata": {
    "scrolled": true
   },
   "outputs": [
    {
     "name": "stdout",
     "output_type": "stream",
     "text": [
      "<class 'pandas.core.frame.DataFrame'>\n",
      "RangeIndex: 1387 entries, 0 to 1386\n",
      "Data columns (total 63 columns):\n",
      " #   Column                     Non-Null Count  Dtype  \n",
      "---  ------                     --------------  -----  \n",
      " 0   Year                       1387 non-null   int32  \n",
      " 1   Month                      1387 non-null   int32  \n",
      " 2   Hospital                   1387 non-null   int32  \n",
      " 3   Sample                     1387 non-null   int32  \n",
      " 4   ICU                        1304 non-null   float64\n",
      " 5   OPD                        1304 non-null   float64\n",
      " 6   Sex                        1242 non-null   float64\n",
      " 7   Age                        1217 non-null   float64\n",
      " 8   Ethnicity                  1242 non-null   float64\n",
      " 9   Income                     851 non-null    float64\n",
      " 10  Education                  1027 non-null   float64\n",
      " 11  TertiaryEducation          1027 non-null   float64\n",
      " 12  Prophylactics              1084 non-null   float64\n",
      " 13  Pasttreatments             1088 non-null   float64\n",
      " 14  Pastantibiotics            1086 non-null   float64\n",
      " 15  Chronicillness             1068 non-null   float64\n",
      " 16  Possibleexposure           1078 non-null   float64\n",
      " 17  Usualdrinkingwatersource   421 non-null    float64\n",
      " 18  Usualbathingwatersource    423 non-null    float64\n",
      " 19  Sourceofwaterforhousehold  421 non-null    float64\n",
      " 20  Garbagedisposalprocedure   420 non-null    float64\n",
      " 21  Accumilationofrefusal      421 non-null    float64\n",
      " 22  Psychoticsymptomsonset     1030 non-null   float64\n",
      " 23  Psychoticsymptomsad        943 non-null    float64\n",
      " 24  WBCcount                   949 non-null    float64\n",
      " 25  Ncount                     745 non-null    float64\n",
      " 26  Lcount                     722 non-null    float64\n",
      " 27  Plateletcount              750 non-null    float64\n",
      " 28  RBC                        628 non-null    float64\n",
      " 29  WPqPCRDiagnosis            1155 non-null   float64\n",
      " 30  UrineqPCRDiagnosis         509 non-null    float64\n",
      " 31  Isolate                    938 non-null    float64\n",
      " 32  Final                      1387 non-null   int32  \n",
      " 33  HeadacheDays               1075 non-null   float64\n",
      " 34  FeverDays                  1076 non-null   float64\n",
      " 35  ChillsDays                 1075 non-null   float64\n",
      " 36  RigorsDays                 1076 non-null   float64\n",
      " 37  MusclepainDays             1077 non-null   float64\n",
      " 38  MustenderDays              1078 non-null   float64\n",
      " 39  NauseaDays                 1077 non-null   float64\n",
      " 40  VomitingDays               1077 non-null   float64\n",
      " 41  ConsufDays                 1077 non-null   float64\n",
      " 42  SkinrashDays               1077 non-null   float64\n",
      " 43  MucorashDays               1076 non-null   float64\n",
      " 44  ProstrationDays            1077 non-null   float64\n",
      " 45  diarrheaDays               1077 non-null   float64\n",
      " 46  OliguriaDays               1077 non-null   float64\n",
      " 47  AnuriaDays                 1075 non-null   float64\n",
      " 48  JaundiceDays               1076 non-null   float64\n",
      " 49  PhotophobiaDays            1076 non-null   float64\n",
      " 50  ConfusionDays              1076 non-null   float64\n",
      " 51  CoughDays                  1076 non-null   float64\n",
      " 52  HaemoptysisDays            1077 non-null   float64\n",
      " 53  SOBDays                    1076 non-null   float64\n",
      " 54  ChestpainDays              1076 non-null   float64\n",
      " 55  BleedingDays               1069 non-null   float64\n",
      " 56  hepatictenderDays          982 non-null    float64\n",
      " 57  hepatomegalyDays           979 non-null    float64\n",
      " 58  SpleenomegalyDays          977 non-null    float64\n",
      " 59  LymphadenopathyDays        977 non-null    float64\n",
      " 60  NeckstiffnessDays          1016 non-null   float64\n",
      " 61  animal_handle              422 non-null    object \n",
      " 62  any_outdoor_exposure       456 non-null    object \n",
      "dtypes: float64(56), int32(5), object(2)\n",
      "memory usage: 655.7+ KB\n"
     ]
    }
   ],
   "source": [
    "data.info()"
   ]
  },
  {
   "cell_type": "raw",
   "id": "bfa212ea",
   "metadata": {},
   "source": [
    "data.to_csv('train_before_imp3.csv', index=False)"
   ]
  },
  {
   "cell_type": "code",
   "execution_count": 28,
   "id": "dc6a31b5",
   "metadata": {
    "scrolled": true
   },
   "outputs": [
    {
     "name": "stdout",
     "output_type": "stream",
     "text": [
      "Year                      0\n",
      "Month                     0\n",
      "Hospital                  0\n",
      "Sample                    0\n",
      "ICU                      83\n",
      "                       ... \n",
      "SpleenomegalyDays       410\n",
      "LymphadenopathyDays     410\n",
      "NeckstiffnessDays       371\n",
      "animal_handle           965\n",
      "any_outdoor_exposure    931\n",
      "Length: 63, dtype: int64\n"
     ]
    }
   ],
   "source": [
    "import pandas as pd\n",
    "\n",
    "# Assume 'df' is your DataFrame\n",
    "nan_counts = data.isna().sum()\n",
    "\n",
    "print(nan_counts)\n"
   ]
  },
  {
   "cell_type": "markdown",
   "id": "7f31a4cd",
   "metadata": {},
   "source": [
    "df.to_excel('train2.xlsx', index=False)"
   ]
  },
  {
   "cell_type": "code",
   "execution_count": 29,
   "id": "aebb8f14",
   "metadata": {
    "scrolled": true
   },
   "outputs": [
    {
     "data": {
      "text/plain": [
       "24795"
      ]
     },
     "execution_count": 29,
     "metadata": {},
     "output_type": "execute_result"
    }
   ],
   "source": [
    "# Get the number of NaN values in the DataFrame\n",
    "nan_count = data.isna().sum().sum()\n",
    "nan_count"
   ]
  },
  {
   "cell_type": "code",
   "execution_count": 30,
   "id": "f6cffff9",
   "metadata": {
    "scrolled": true
   },
   "outputs": [
    {
     "name": "stdout",
     "output_type": "stream",
     "text": [
      "<class 'pandas.core.frame.DataFrame'>\n",
      "RangeIndex: 1387 entries, 0 to 1386\n",
      "Data columns (total 63 columns):\n",
      " #   Column                     Non-Null Count  Dtype\n",
      "---  ------                     --------------  -----\n",
      " 0   Year                       1387 non-null   Int64\n",
      " 1   Month                      1387 non-null   Int64\n",
      " 2   Hospital                   1387 non-null   Int64\n",
      " 3   Sample                     1387 non-null   Int64\n",
      " 4   ICU                        1304 non-null   Int64\n",
      " 5   OPD                        1304 non-null   Int64\n",
      " 6   Sex                        1242 non-null   Int64\n",
      " 7   Age                        1217 non-null   Int64\n",
      " 8   Ethnicity                  1242 non-null   Int64\n",
      " 9   Income                     851 non-null    Int64\n",
      " 10  Education                  1027 non-null   Int64\n",
      " 11  TertiaryEducation          1027 non-null   Int64\n",
      " 12  Prophylactics              1084 non-null   Int64\n",
      " 13  Pasttreatments             1088 non-null   Int64\n",
      " 14  Pastantibiotics            1086 non-null   Int64\n",
      " 15  Chronicillness             1068 non-null   Int64\n",
      " 16  Possibleexposure           1078 non-null   Int64\n",
      " 17  Usualdrinkingwatersource   421 non-null    Int64\n",
      " 18  Usualbathingwatersource    423 non-null    Int64\n",
      " 19  Sourceofwaterforhousehold  421 non-null    Int64\n",
      " 20  Garbagedisposalprocedure   420 non-null    Int64\n",
      " 21  Accumilationofrefusal      421 non-null    Int64\n",
      " 22  Psychoticsymptomsonset     1030 non-null   Int64\n",
      " 23  Psychoticsymptomsad        943 non-null    Int64\n",
      " 24  WBCcount                   949 non-null    Int64\n",
      " 25  Ncount                     745 non-null    Int64\n",
      " 26  Lcount                     722 non-null    Int64\n",
      " 27  Plateletcount              750 non-null    Int64\n",
      " 28  RBC                        628 non-null    Int64\n",
      " 29  WPqPCRDiagnosis            1155 non-null   Int64\n",
      " 30  UrineqPCRDiagnosis         509 non-null    Int64\n",
      " 31  Isolate                    938 non-null    Int64\n",
      " 32  Final                      1387 non-null   Int64\n",
      " 33  HeadacheDays               1075 non-null   Int64\n",
      " 34  FeverDays                  1076 non-null   Int64\n",
      " 35  ChillsDays                 1075 non-null   Int64\n",
      " 36  RigorsDays                 1076 non-null   Int64\n",
      " 37  MusclepainDays             1077 non-null   Int64\n",
      " 38  MustenderDays              1078 non-null   Int64\n",
      " 39  NauseaDays                 1077 non-null   Int64\n",
      " 40  VomitingDays               1077 non-null   Int64\n",
      " 41  ConsufDays                 1077 non-null   Int64\n",
      " 42  SkinrashDays               1077 non-null   Int64\n",
      " 43  MucorashDays               1076 non-null   Int64\n",
      " 44  ProstrationDays            1077 non-null   Int64\n",
      " 45  diarrheaDays               1077 non-null   Int64\n",
      " 46  OliguriaDays               1077 non-null   Int64\n",
      " 47  AnuriaDays                 1075 non-null   Int64\n",
      " 48  JaundiceDays               1076 non-null   Int64\n",
      " 49  PhotophobiaDays            1076 non-null   Int64\n",
      " 50  ConfusionDays              1076 non-null   Int64\n",
      " 51  CoughDays                  1076 non-null   Int64\n",
      " 52  HaemoptysisDays            1077 non-null   Int64\n",
      " 53  SOBDays                    1076 non-null   Int64\n",
      " 54  ChestpainDays              1076 non-null   Int64\n",
      " 55  BleedingDays               1069 non-null   Int64\n",
      " 56  hepatictenderDays          982 non-null    Int64\n",
      " 57  hepatomegalyDays           979 non-null    Int64\n",
      " 58  SpleenomegalyDays          977 non-null    Int64\n",
      " 59  LymphadenopathyDays        977 non-null    Int64\n",
      " 60  NeckstiffnessDays          1016 non-null   Int64\n",
      " 61  animal_handle              422 non-null    Int64\n",
      " 62  any_outdoor_exposure       456 non-null    Int64\n",
      "dtypes: Int64(63)\n",
      "memory usage: 768.1 KB\n"
     ]
    }
   ],
   "source": [
    "data = data.astype('Int64')\n",
    "data.info()"
   ]
  },
  {
   "cell_type": "code",
   "execution_count": 31,
   "id": "3bb98666",
   "metadata": {},
   "outputs": [],
   "source": [
    "cat_columns_to_convert = ['Year','Month','Hospital','Sample','ICU','OPD','Sex',\n",
    "                          'Ethnicity','Education','TertiaryEducation','Prophylactics',\n",
    "                          'Pasttreatments','Pastantibiotics','Chronicillness',\n",
    "                          'Possibleexposure','Psychoticsymptomsonset','Psychoticsymptomsad',\n",
    "                          'WPqPCRDiagnosis','Isolate','Final','Usualdrinkingwatersource','Usualbathingwatersource',\n",
    "                         'Sourceofwaterforhousehold','Garbagedisposalprocedure','Accumilationofrefusal']\n",
    "\n",
    "data[cat_columns_to_convert] = data[cat_columns_to_convert].astype('Int64')\n",
    "data[cat_columns_to_convert] = data[cat_columns_to_convert].astype('category')\n",
    "\n",
    "num1_columns_to_convert = ['Age','Income']\n",
    "data[num1_columns_to_convert] = data[num1_columns_to_convert].astype('Int64')\n",
    "\n",
    "num_columns_to_convert  = data.columns[data.columns.get_loc('WBCcount'):] #columns starting from 'WBCcount' and onwards.\n",
    "data[num_columns_to_convert] = data[num_columns_to_convert].astype('Int64')\n",
    "\n",
    "\n",
    "cat1_columns_to_convert = ['WPqPCRDiagnosis','UrineqPCRDiagnosis','Isolate','Final']\n",
    "data[cat1_columns_to_convert] = data[cat1_columns_to_convert].astype('category')\n",
    "\n"
   ]
  },
  {
   "cell_type": "code",
   "execution_count": 32,
   "id": "746894e1",
   "metadata": {
    "scrolled": true
   },
   "outputs": [
    {
     "name": "stdout",
     "output_type": "stream",
     "text": [
      "<class 'pandas.core.frame.DataFrame'>\n",
      "RangeIndex: 1387 entries, 0 to 1386\n",
      "Data columns (total 63 columns):\n",
      " #   Column                     Non-Null Count  Dtype   \n",
      "---  ------                     --------------  -----   \n",
      " 0   Year                       1387 non-null   category\n",
      " 1   Month                      1387 non-null   category\n",
      " 2   Hospital                   1387 non-null   category\n",
      " 3   Sample                     1387 non-null   category\n",
      " 4   ICU                        1304 non-null   category\n",
      " 5   OPD                        1304 non-null   category\n",
      " 6   Sex                        1242 non-null   category\n",
      " 7   Age                        1217 non-null   Int64   \n",
      " 8   Ethnicity                  1242 non-null   category\n",
      " 9   Income                     851 non-null    Int64   \n",
      " 10  Education                  1027 non-null   category\n",
      " 11  TertiaryEducation          1027 non-null   category\n",
      " 12  Prophylactics              1084 non-null   category\n",
      " 13  Pasttreatments             1088 non-null   category\n",
      " 14  Pastantibiotics            1086 non-null   category\n",
      " 15  Chronicillness             1068 non-null   category\n",
      " 16  Possibleexposure           1078 non-null   category\n",
      " 17  Usualdrinkingwatersource   421 non-null    category\n",
      " 18  Usualbathingwatersource    423 non-null    category\n",
      " 19  Sourceofwaterforhousehold  421 non-null    category\n",
      " 20  Garbagedisposalprocedure   420 non-null    category\n",
      " 21  Accumilationofrefusal      421 non-null    category\n",
      " 22  Psychoticsymptomsonset     1030 non-null   category\n",
      " 23  Psychoticsymptomsad        943 non-null    category\n",
      " 24  WBCcount                   949 non-null    Int64   \n",
      " 25  Ncount                     745 non-null    Int64   \n",
      " 26  Lcount                     722 non-null    Int64   \n",
      " 27  Plateletcount              750 non-null    Int64   \n",
      " 28  RBC                        628 non-null    Int64   \n",
      " 29  WPqPCRDiagnosis            1155 non-null   category\n",
      " 30  UrineqPCRDiagnosis         509 non-null    category\n",
      " 31  Isolate                    938 non-null    category\n",
      " 32  Final                      1387 non-null   category\n",
      " 33  HeadacheDays               1075 non-null   Int64   \n",
      " 34  FeverDays                  1076 non-null   Int64   \n",
      " 35  ChillsDays                 1075 non-null   Int64   \n",
      " 36  RigorsDays                 1076 non-null   Int64   \n",
      " 37  MusclepainDays             1077 non-null   Int64   \n",
      " 38  MustenderDays              1078 non-null   Int64   \n",
      " 39  NauseaDays                 1077 non-null   Int64   \n",
      " 40  VomitingDays               1077 non-null   Int64   \n",
      " 41  ConsufDays                 1077 non-null   Int64   \n",
      " 42  SkinrashDays               1077 non-null   Int64   \n",
      " 43  MucorashDays               1076 non-null   Int64   \n",
      " 44  ProstrationDays            1077 non-null   Int64   \n",
      " 45  diarrheaDays               1077 non-null   Int64   \n",
      " 46  OliguriaDays               1077 non-null   Int64   \n",
      " 47  AnuriaDays                 1075 non-null   Int64   \n",
      " 48  JaundiceDays               1076 non-null   Int64   \n",
      " 49  PhotophobiaDays            1076 non-null   Int64   \n",
      " 50  ConfusionDays              1076 non-null   Int64   \n",
      " 51  CoughDays                  1076 non-null   Int64   \n",
      " 52  HaemoptysisDays            1077 non-null   Int64   \n",
      " 53  SOBDays                    1076 non-null   Int64   \n",
      " 54  ChestpainDays              1076 non-null   Int64   \n",
      " 55  BleedingDays               1069 non-null   Int64   \n",
      " 56  hepatictenderDays          982 non-null    Int64   \n",
      " 57  hepatomegalyDays           979 non-null    Int64   \n",
      " 58  SpleenomegalyDays          977 non-null    Int64   \n",
      " 59  LymphadenopathyDays        977 non-null    Int64   \n",
      " 60  NeckstiffnessDays          1016 non-null   Int64   \n",
      " 61  animal_handle              422 non-null    Int64   \n",
      " 62  any_outdoor_exposure       456 non-null    Int64   \n",
      "dtypes: Int64(37), category(26)\n",
      "memory usage: 491.8 KB\n"
     ]
    }
   ],
   "source": [
    "data.info()"
   ]
  },
  {
   "cell_type": "code",
   "execution_count": 33,
   "id": "f5d7013a",
   "metadata": {
    "scrolled": true
   },
   "outputs": [
    {
     "name": "stdout",
     "output_type": "stream",
     "text": [
      "<class 'pandas.core.frame.DataFrame'>\n",
      "Int64Index: 1080 entries, 0 to 1386\n",
      "Data columns (total 63 columns):\n",
      " #   Column                     Non-Null Count  Dtype   \n",
      "---  ------                     --------------  -----   \n",
      " 0   Year                       1080 non-null   category\n",
      " 1   Month                      1080 non-null   category\n",
      " 2   Hospital                   1080 non-null   category\n",
      " 3   Sample                     1080 non-null   category\n",
      " 4   ICU                        1080 non-null   category\n",
      " 5   OPD                        1080 non-null   category\n",
      " 6   Sex                        1078 non-null   category\n",
      " 7   Age                        1068 non-null   Int64   \n",
      " 8   Ethnicity                  1078 non-null   category\n",
      " 9   Income                     837 non-null    Int64   \n",
      " 10  Education                  1005 non-null   category\n",
      " 11  TertiaryEducation          1005 non-null   category\n",
      " 12  Prophylactics              1060 non-null   category\n",
      " 13  Pasttreatments             1064 non-null   category\n",
      " 14  Pastantibiotics            1062 non-null   category\n",
      " 15  Chronicillness             1044 non-null   category\n",
      " 16  Possibleexposure           1055 non-null   category\n",
      " 17  Usualdrinkingwatersource   407 non-null    category\n",
      " 18  Usualbathingwatersource    409 non-null    category\n",
      " 19  Sourceofwaterforhousehold  408 non-null    category\n",
      " 20  Garbagedisposalprocedure   407 non-null    category\n",
      " 21  Accumilationofrefusal      408 non-null    category\n",
      " 22  Psychoticsymptomsonset     1030 non-null   category\n",
      " 23  Psychoticsymptomsad        943 non-null    category\n",
      " 24  WBCcount                   936 non-null    Int64   \n",
      " 25  Ncount                     734 non-null    Int64   \n",
      " 26  Lcount                     712 non-null    Int64   \n",
      " 27  Plateletcount              738 non-null    Int64   \n",
      " 28  RBC                        622 non-null    Int64   \n",
      " 29  WPqPCRDiagnosis            972 non-null    category\n",
      " 30  UrineqPCRDiagnosis         465 non-null    category\n",
      " 31  Isolate                    727 non-null    category\n",
      " 32  Final                      1080 non-null   category\n",
      " 33  HeadacheDays               1075 non-null   Int64   \n",
      " 34  FeverDays                  1076 non-null   Int64   \n",
      " 35  ChillsDays                 1075 non-null   Int64   \n",
      " 36  RigorsDays                 1076 non-null   Int64   \n",
      " 37  MusclepainDays             1077 non-null   Int64   \n",
      " 38  MustenderDays              1077 non-null   Int64   \n",
      " 39  NauseaDays                 1077 non-null   Int64   \n",
      " 40  VomitingDays               1077 non-null   Int64   \n",
      " 41  ConsufDays                 1077 non-null   Int64   \n",
      " 42  SkinrashDays               1077 non-null   Int64   \n",
      " 43  MucorashDays               1076 non-null   Int64   \n",
      " 44  ProstrationDays            1077 non-null   Int64   \n",
      " 45  diarrheaDays               1077 non-null   Int64   \n",
      " 46  OliguriaDays               1077 non-null   Int64   \n",
      " 47  AnuriaDays                 1075 non-null   Int64   \n",
      " 48  JaundiceDays               1076 non-null   Int64   \n",
      " 49  PhotophobiaDays            1076 non-null   Int64   \n",
      " 50  ConfusionDays              1076 non-null   Int64   \n",
      " 51  CoughDays                  1076 non-null   Int64   \n",
      " 52  HaemoptysisDays            1077 non-null   Int64   \n",
      " 53  SOBDays                    1076 non-null   Int64   \n",
      " 54  ChestpainDays              1076 non-null   Int64   \n",
      " 55  BleedingDays               1069 non-null   Int64   \n",
      " 56  hepatictenderDays          982 non-null    Int64   \n",
      " 57  hepatomegalyDays           979 non-null    Int64   \n",
      " 58  SpleenomegalyDays          977 non-null    Int64   \n",
      " 59  LymphadenopathyDays        977 non-null    Int64   \n",
      " 60  NeckstiffnessDays          1016 non-null   Int64   \n",
      " 61  animal_handle              409 non-null    Int64   \n",
      " 62  any_outdoor_exposure       441 non-null    Int64   \n",
      "dtypes: Int64(37), category(26)\n",
      "memory usage: 392.5 KB\n"
     ]
    }
   ],
   "source": [
    "null_percentage = data.isnull().sum(axis=1) / data.shape[1]\n",
    "# Choose rows having less than 50% null data\n",
    "data = data[null_percentage < 0.5]\n",
    "data.info()"
   ]
  },
  {
   "cell_type": "code",
   "execution_count": 34,
   "id": "50f0526c",
   "metadata": {
    "scrolled": true
   },
   "outputs": [],
   "source": [
    "\n",
    "# Copy the original DataFrame\n",
    "imp_data = data.copy()\n",
    "\n",
    "from sklearn.impute import SimpleImputer\n",
    "from sklearn.impute import KNNImputer\n",
    "#################### MEAN\n",
    "# Create an instance of SimpleImputer with strategy='mean'\n",
    "imputer = SimpleImputer(strategy='mean')\n",
    "\n",
    "# Fit the imputer on the 'income' column and transform the data\n",
    "imp_data['Income'] = imputer.fit_transform(imp_data[['Income']])\n",
    "\n",
    "###############\n",
    "imputer = KNNImputer(n_neighbors=5)\n",
    "\n",
    "# Fit the imputer on the data and transform the 'age' column\n",
    "imp_data['Age'] = imputer.fit_transform(imp_data[['Age']])\n",
    "# Round the imputed values to the nearest integer\n",
    "imp_data['Age'] = imp_data['Age'].round().astype(int)\n",
    "\n",
    "##################### MODE\n",
    "categorical_columns = data.select_dtypes(include='category').columns.tolist()\n",
    "int64_columns = data.select_dtypes(include='Int64').columns.tolist()\n",
    "\n",
    "data_imputed = imp_data[categorical_columns + int64_columns].fillna(imp_data[categorical_columns + int64_columns].mode().iloc[0])\n",
    "\n",
    "# Update the original dataframe with the imputed values\n",
    "imp_data[categorical_columns +  int64_columns] = data_imputed\n",
    "\n",
    "\n",
    "#print(imp_data)\n"
   ]
  },
  {
   "cell_type": "code",
   "execution_count": 35,
   "id": "d8064089",
   "metadata": {
    "scrolled": true
   },
   "outputs": [
    {
     "name": "stdout",
     "output_type": "stream",
     "text": [
      "<class 'pandas.core.frame.DataFrame'>\n",
      "Int64Index: 1080 entries, 0 to 1386\n",
      "Data columns (total 63 columns):\n",
      " #   Column                     Non-Null Count  Dtype   \n",
      "---  ------                     --------------  -----   \n",
      " 0   Year                       1080 non-null   category\n",
      " 1   Month                      1080 non-null   category\n",
      " 2   Hospital                   1080 non-null   category\n",
      " 3   Sample                     1080 non-null   category\n",
      " 4   ICU                        1080 non-null   category\n",
      " 5   OPD                        1080 non-null   category\n",
      " 6   Sex                        1080 non-null   category\n",
      " 7   Age                        1080 non-null   int32   \n",
      " 8   Ethnicity                  1080 non-null   category\n",
      " 9   Income                     1080 non-null   float64 \n",
      " 10  Education                  1080 non-null   category\n",
      " 11  TertiaryEducation          1080 non-null   category\n",
      " 12  Prophylactics              1080 non-null   category\n",
      " 13  Pasttreatments             1080 non-null   category\n",
      " 14  Pastantibiotics            1080 non-null   category\n",
      " 15  Chronicillness             1080 non-null   category\n",
      " 16  Possibleexposure           1080 non-null   category\n",
      " 17  Usualdrinkingwatersource   1080 non-null   category\n",
      " 18  Usualbathingwatersource    1080 non-null   category\n",
      " 19  Sourceofwaterforhousehold  1080 non-null   category\n",
      " 20  Garbagedisposalprocedure   1080 non-null   category\n",
      " 21  Accumilationofrefusal      1080 non-null   category\n",
      " 22  Psychoticsymptomsonset     1080 non-null   category\n",
      " 23  Psychoticsymptomsad        1080 non-null   category\n",
      " 24  WBCcount                   1080 non-null   Int64   \n",
      " 25  Ncount                     1080 non-null   Int64   \n",
      " 26  Lcount                     1080 non-null   Int64   \n",
      " 27  Plateletcount              1080 non-null   Int64   \n",
      " 28  RBC                        1080 non-null   Int64   \n",
      " 29  WPqPCRDiagnosis            1080 non-null   category\n",
      " 30  UrineqPCRDiagnosis         1080 non-null   category\n",
      " 31  Isolate                    1080 non-null   category\n",
      " 32  Final                      1080 non-null   category\n",
      " 33  HeadacheDays               1080 non-null   Int64   \n",
      " 34  FeverDays                  1080 non-null   Int64   \n",
      " 35  ChillsDays                 1080 non-null   Int64   \n",
      " 36  RigorsDays                 1080 non-null   Int64   \n",
      " 37  MusclepainDays             1080 non-null   Int64   \n",
      " 38  MustenderDays              1080 non-null   Int64   \n",
      " 39  NauseaDays                 1080 non-null   Int64   \n",
      " 40  VomitingDays               1080 non-null   Int64   \n",
      " 41  ConsufDays                 1080 non-null   Int64   \n",
      " 42  SkinrashDays               1080 non-null   Int64   \n",
      " 43  MucorashDays               1080 non-null   Int64   \n",
      " 44  ProstrationDays            1080 non-null   Int64   \n",
      " 45  diarrheaDays               1080 non-null   Int64   \n",
      " 46  OliguriaDays               1080 non-null   Int64   \n",
      " 47  AnuriaDays                 1080 non-null   Int64   \n",
      " 48  JaundiceDays               1080 non-null   Int64   \n",
      " 49  PhotophobiaDays            1080 non-null   Int64   \n",
      " 50  ConfusionDays              1080 non-null   Int64   \n",
      " 51  CoughDays                  1080 non-null   Int64   \n",
      " 52  HaemoptysisDays            1080 non-null   Int64   \n",
      " 53  SOBDays                    1080 non-null   Int64   \n",
      " 54  ChestpainDays              1080 non-null   Int64   \n",
      " 55  BleedingDays               1080 non-null   Int64   \n",
      " 56  hepatictenderDays          1080 non-null   Int64   \n",
      " 57  hepatomegalyDays           1080 non-null   Int64   \n",
      " 58  SpleenomegalyDays          1080 non-null   Int64   \n",
      " 59  LymphadenopathyDays        1080 non-null   Int64   \n",
      " 60  NeckstiffnessDays          1080 non-null   Int64   \n",
      " 61  animal_handle              1080 non-null   Int64   \n",
      " 62  any_outdoor_exposure       1080 non-null   Int64   \n",
      "dtypes: Int64(35), category(26), float64(1), int32(1)\n",
      "memory usage: 386.2 KB\n"
     ]
    }
   ],
   "source": [
    "imp_data.info()"
   ]
  },
  {
   "cell_type": "markdown",
   "id": "c8ad9ae6",
   "metadata": {},
   "source": [
    "# a) Exploratory Data Analysis"
   ]
  },
  {
   "cell_type": "code",
   "execution_count": 36,
   "id": "dc45964a",
   "metadata": {},
   "outputs": [
    {
     "data": {
      "image/png": "[encoded data removed]",
      "text/plain": [
       "<Figure size 1800x600 with 2 Axes>"
      ]
     },
     "metadata": {},
     "output_type": "display_data"
    }
   ],
   "source": [
    "import matplotlib.pyplot as plt\n",
    "# Creating autocpt arguments\n",
    "def pie(pct, allvalues):\n",
    "    absolute = int(pct / 100.*np.sum(allvalues))\n",
    "    return \"{:.1f}%\\n({:d})\".format(pct, absolute) if pct > 8 else ''\n",
    "\n",
    "fig, axs = plt.subplots(1,2,figsize =(18, 6))\n",
    "\n",
    "# class\n",
    "wedges1, texts1, autotexts1 = axs[0].pie(imp_data['Final'].value_counts(),\n",
    "                                      autopct = lambda pct: pie(pct, imp_data['Final'].value_counts()),\n",
    "                                      explode = (.1, 0.1),\n",
    "                                      labels = imp_data['Final'].value_counts().index, shadow = True, \n",
    "                                      startangle = 90, wedgeprops = { 'linewidth' : 1, 'edgecolor' : \"black\" }, \n",
    "                                      textprops = dict(color =\"black\"),)\n",
    " \n",
    "# Adding legend\n",
    "axs[0].legend(wedges1, imp_data['Final'].value_counts().index, title='Final',\n",
    "          loc =\"center left\", bbox_to_anchor =(1, 0, 0.5, 1))\n",
    " \n",
    "plt.setp(autotexts1, size = 8, weight =\"bold\")\n",
    "axs[0].set_title(\"dist of final\")\n",
    "\n",
    "# gender\n",
    "wedges1, texts1, autotexts1 = axs[1].pie(imp_data['Sex'].value_counts(),\n",
    "                                      autopct = lambda pct: pie(pct, imp_data['Sex'].value_counts()),\n",
    "                                      explode = (0.1, .1), colors = (\"#3BA9A9\", \"pink\"),\n",
    "                                      labels = imp_data['Sex'].value_counts().index, shadow = True, \n",
    "                                      startangle = 90, wedgeprops = { 'linewidth' : 1, 'edgecolor' : \"black\" }, \n",
    "                                      textprops = dict(color =\"black\"),)\n",
    " \n",
    "# Adding legend\n",
    "axs[1].legend(wedges1, imp_data['Sex'].value_counts().index, title='Sex',\n",
    "          loc =\"center left\", bbox_to_anchor =(1, 0, 0.5, 1))\n",
    " \n",
    "plt.setp(autotexts1, size = 8, weight =\"bold\")\n",
    "axs[1].set_title(\"gender\")\n",
    "\n",
    "plt.show()"
   ]
  },
  {
   "cell_type": "markdown",
   "id": "06a7e70e",
   "metadata": {},
   "source": [
    "Looking at the 1st pie chart, it seems that the response variable is quite imbalanced which leads to biased prediction. But when taking the balanced data by oversampling, undersampling and SMOTE technique to get rid of the issue of imbalancing the response variable,the train accuracy and test accuracies are getting lower. so, no balancing, since it is not much imbalanced."
   ]
  },
  {
   "cell_type": "code",
   "execution_count": 37,
   "id": "010cc4dd",
   "metadata": {
    "scrolled": false
   },
   "outputs": [
    {
     "data": {
      "image/png": "[encoded data removed]",
      "text/plain": [
       "<Figure size 1000x600 with 1 Axes>"
      ]
     },
     "metadata": {},
     "output_type": "display_data"
    }
   ],
   "source": [
    "import numpy as np\n",
    "import matplotlib.pyplot as plt\n",
    "cross_tab_prop = pd.crosstab(index=data['Sex'],\n",
    "                             columns=data['Final'],\n",
    "                             normalize=\"index\")\n",
    "cross_tab_prop\n",
    "\n",
    "cross_tab = pd.crosstab(index=data['Sex'],\n",
    "                        columns=data['Final'])\n",
    "cross_tab\n",
    "\n",
    "cross_tab_prop.plot(kind='bar', \n",
    "                    stacked=True, \n",
    "                    colormap='tab10', \n",
    "                    figsize=(10, 6))\n",
    "\n",
    "plt.legend()\n",
    "plt.xlabel(\"Sex\")\n",
    "plt.ylabel(\"Proportion\")\n",
    "\n",
    "#give proportion and count\n",
    "for n, x in enumerate([*cross_tab.index.values]):\n",
    "    for (proportion, count, y_loc) in zip(cross_tab_prop.loc[x],\n",
    "                                          cross_tab.loc[x],\n",
    "                                          cross_tab_prop.loc[x].cumsum()):\n",
    "                \n",
    "        plt.text(x=n - 0.17,\n",
    "                 y=(y_loc - proportion) + (proportion / 2),\n",
    "                 s=f'{count}\\n({np.round(proportion * 100, 1)}%)', \n",
    "                 color=\"black\",\n",
    "                 fontsize=12,\n",
    "                 fontweight=\"bold\")\n",
    "        \n",
    "plt.show()"
   ]
  },
  {
   "cell_type": "code",
   "execution_count": 38,
   "id": "5de13e51",
   "metadata": {},
   "outputs": [
    {
     "data": {
      "image/png": "[encoded data removed]",
      "text/plain": [
       "<Figure size 1000x600 with 1 Axes>"
      ]
     },
     "metadata": {},
     "output_type": "display_data"
    }
   ],
   "source": [
    "import numpy as np\n",
    "import matplotlib.pyplot as plt\n",
    "cross_tab_prop = pd.crosstab(index=data['Ethnicity'],\n",
    "                             columns=data['Final'],\n",
    "                             normalize=\"index\")\n",
    "cross_tab_prop\n",
    "\n",
    "cross_tab = pd.crosstab(index=data['Ethnicity'],\n",
    "                        columns=data['Final'])\n",
    "cross_tab\n",
    "\n",
    "cross_tab_prop.plot(kind='bar', \n",
    "                    stacked=True, \n",
    "                    colormap='tab10', \n",
    "                    figsize=(10, 6))\n",
    "\n",
    "plt.legend()\n",
    "plt.xlabel(\"Ethnicity\")\n",
    "plt.ylabel(\"Proportion\")\n",
    "\n",
    "#give proportion and count\n",
    "for n, x in enumerate([*cross_tab.index.values]):\n",
    "    for (proportion, count, y_loc) in zip(cross_tab_prop.loc[x],\n",
    "                                          cross_tab.loc[x],\n",
    "                                          cross_tab_prop.loc[x].cumsum()):\n",
    "                \n",
    "        plt.text(x=n - 0.17,\n",
    "                 y=(y_loc - proportion) + (proportion / 2),\n",
    "                 s=f'{count}\\n({np.round(proportion * 100, 1)}%)', \n",
    "                 color=\"black\",\n",
    "                 fontsize=12,\n",
    "                 fontweight=\"bold\")\n",
    "        \n",
    "plt.show()"
   ]
  },
  {
   "cell_type": "code",
   "execution_count": 39,
   "id": "6786c154",
   "metadata": {},
   "outputs": [
    {
     "data": {
      "image/png": "[encoded data removed]",
      "text/plain": [
       "<Figure size 1000x600 with 1 Axes>"
      ]
     },
     "metadata": {},
     "output_type": "display_data"
    }
   ],
   "source": [
    "import numpy as np\n",
    "import matplotlib.pyplot as plt\n",
    "cross_tab_prop = pd.crosstab(index=data['Isolate'],\n",
    "                             columns=data['Final'],\n",
    "                             normalize=\"index\")\n",
    "cross_tab_prop\n",
    "\n",
    "cross_tab = pd.crosstab(index=data['Isolate'],\n",
    "                        columns=data['Final'])\n",
    "cross_tab\n",
    "\n",
    "cross_tab_prop.plot(kind='bar', \n",
    "                    stacked=True, \n",
    "                    colormap='tab10', \n",
    "                    figsize=(10, 6))\n",
    "\n",
    "plt.legend()\n",
    "plt.xlabel(\"Isolate\")\n",
    "plt.ylabel(\"Proportion\")\n",
    "\n",
    "#give proportion and count\n",
    "for n, x in enumerate([*cross_tab.index.values]):\n",
    "    for (proportion, count, y_loc) in zip(cross_tab_prop.loc[x],\n",
    "                                          cross_tab.loc[x],\n",
    "                                          cross_tab_prop.loc[x].cumsum()):\n",
    "                \n",
    "        plt.text(x=n - 0.17,\n",
    "                 y=(y_loc - proportion) + (proportion / 2),\n",
    "                 s=f'{count}\\n({np.round(proportion * 100, 1)}%)', \n",
    "                 color=\"black\",\n",
    "                 fontsize=12,\n",
    "                 fontweight=\"bold\")\n",
    "        \n",
    "plt.show()"
   ]
  },
  {
   "cell_type": "code",
   "execution_count": 40,
   "id": "d554c50b",
   "metadata": {},
   "outputs": [
    {
     "data": {
      "image/png": "[encoded data removed]",
      "text/plain": [
       "<Figure size 640x480 with 1 Axes>"
      ]
     },
     "metadata": {},
     "output_type": "display_data"
    }
   ],
   "source": [
    "import seaborn as sns\n",
    "var = 'Age'\n",
    "sns.boxplot(x='Final', y=var, data=imp_data, hue='Final',palette='PuBu')\n",
    "plt.show()\n"
   ]
  },
  {
   "cell_type": "code",
   "execution_count": 41,
   "id": "0ab89010",
   "metadata": {
    "scrolled": false
   },
   "outputs": [
    {
     "data": {
      "image/png": "[encoded data removed]",
      "text/plain": [
       "<Figure size 640x480 with 1 Axes>"
      ]
     },
     "metadata": {},
     "output_type": "display_data"
    }
   ],
   "source": [
    "var = 'Income'\n",
    "sns.boxplot(x='Final', y=var, data=imp_data, hue='Final',palette='Blues')\n",
    "plt.show()\n"
   ]
  },
  {
   "cell_type": "markdown",
   "id": "a493fbc6",
   "metadata": {},
   "source": [
    "can see some outliers in the above boxplot"
   ]
  },
  {
   "cell_type": "code",
   "execution_count": 42,
   "id": "bcf13f9d",
   "metadata": {},
   "outputs": [
    {
     "data": {
      "image/png": "[encoded data removed]",
      "text/plain": [
       "<Figure size 1000x800 with 2 Axes>"
      ]
     },
     "metadata": {},
     "output_type": "display_data"
    }
   ],
   "source": [
    "import seaborn as sns\n",
    "\n",
    "# Filter Int64 and Int32 variables\n",
    "int_vars = imp_data.select_dtypes(include=['Int64', 'Int32','float64'])\n",
    "\n",
    "# Compute the correlation matrix for integer variables\n",
    "correlation_matrix = int_vars.corr()\n",
    "\n",
    "# Create a heatmap using the correlation matrix\n",
    "plt.figure(figsize=(10, 8))\n",
    "sns.heatmap(correlation_matrix, annot=False, cmap='Blues', linewidths=0.5)\n",
    "plt.title('Correlation Matrix Heatmap (Int64 and Int32 Variables)')\n",
    "plt.show()\n"
   ]
  },
  {
   "cell_type": "code",
   "execution_count": 43,
   "id": "311dffa2",
   "metadata": {},
   "outputs": [
    {
     "name": "stdout",
     "output_type": "stream",
     "text": [
      "Higher Correlation Set for Variable FeverDays:\n",
      "{'ChillsDays'}\n",
      "\n",
      "Higher Correlation Set for Variable ChillsDays:\n",
      "{'FeverDays'}\n",
      "\n",
      "Higher Correlation Set for Variable MusclepainDays:\n",
      "{'MustenderDays'}\n",
      "\n",
      "Higher Correlation Set for Variable MustenderDays:\n",
      "{'MusclepainDays'}\n",
      "\n"
     ]
    }
   ],
   "source": [
    "import numpy as np\n",
    "\n",
    "# Filter Int64 and Int32 variables\n",
    "int_vars = imp_data.select_dtypes(include=['Int64', 'Int32','float64'])\n",
    "\n",
    "# Compute the correlation matrix for integer variables\n",
    "correlation_matrix = int_vars.corr()\n",
    "\n",
    "# Set the correlation threshold\n",
    "correlation_threshold = 0.7\n",
    "\n",
    "# Find variable pairs with correlation above the threshold\n",
    "correlation_pairs = np.where((correlation_matrix > correlation_threshold) | (correlation_matrix < -correlation_threshold))\n",
    "\n",
    "# Create a dictionary to store the sets of variables with higher correlation\n",
    "higher_corr_sets = {}\n",
    "\n",
    "# Iterate over the pairs of correlated variables\n",
    "for i, j in zip(*correlation_pairs):\n",
    "    # Check if the variables are not identical and form a new set\n",
    "    if i != j:\n",
    "        # Check if the set is not already in the higher_corr_sets dictionary\n",
    "        if i not in higher_corr_sets:\n",
    "            higher_corr_sets[i] = set()\n",
    "        if j not in higher_corr_sets:\n",
    "            higher_corr_sets[j] = set()\n",
    "\n",
    "        higher_corr_sets[i].add(int_vars.columns[j])\n",
    "        higher_corr_sets[j].add(int_vars.columns[i])\n",
    "\n",
    "# Print the higher correlation sets\n",
    "for variable, correlated_vars in higher_corr_sets.items():\n",
    "    print(f\"Higher Correlation Set for Variable {int_vars.columns[variable]}:\")\n",
    "    print(correlated_vars)\n",
    "    print()\n"
   ]
  },
  {
   "cell_type": "markdown",
   "id": "5387ba0f",
   "metadata": {},
   "source": [
    "There are some strong negative correlations between variables as above output, indicating the sign of multicolinearity among predictor variables. \n",
    "\n",
    "Multicollinearity can affect the overall performance of the logistic regression model. It can lead to overfitting or unstable predictions, making the model less reliable in terms of generalization to new data.\n",
    "\n",
    "\n",
    "To mitigate multicollinearity in logistic regression,\n",
    "\n",
    "        we can remove one or more highly correlated predictors from the model or\n",
    "        can use Regularization techniques such as ridge regression or lasso regression, which can help in shrinking or eliminating the impact of correlated predictors.(the accuracies got reduced)"
   ]
  },
  {
   "cell_type": "code",
   "execution_count": 44,
   "id": "d285d4bf",
   "metadata": {
    "scrolled": true
   },
   "outputs": [
    {
     "name": "stdout",
     "output_type": "stream",
     "text": [
      "<class 'pandas.core.frame.DataFrame'>\n",
      "Int64Index: 1080 entries, 0 to 1386\n",
      "Data columns (total 59 columns):\n",
      " #   Column                     Non-Null Count  Dtype   \n",
      "---  ------                     --------------  -----   \n",
      " 0   Year                       1080 non-null   category\n",
      " 1   Month                      1080 non-null   category\n",
      " 2   Hospital                   1080 non-null   category\n",
      " 3   Sample                     1080 non-null   category\n",
      " 4   ICU                        1080 non-null   category\n",
      " 5   OPD                        1080 non-null   category\n",
      " 6   Sex                        1080 non-null   category\n",
      " 7   Age                        1080 non-null   int32   \n",
      " 8   Ethnicity                  1080 non-null   category\n",
      " 9   Income                     1080 non-null   float64 \n",
      " 10  Education                  1080 non-null   category\n",
      " 11  TertiaryEducation          1080 non-null   category\n",
      " 12  Prophylactics              1080 non-null   category\n",
      " 13  Pasttreatments             1080 non-null   category\n",
      " 14  Pastantibiotics            1080 non-null   category\n",
      " 15  Chronicillness             1080 non-null   category\n",
      " 16  Possibleexposure           1080 non-null   category\n",
      " 17  Usualdrinkingwatersource   1080 non-null   category\n",
      " 18  Usualbathingwatersource    1080 non-null   category\n",
      " 19  Sourceofwaterforhousehold  1080 non-null   category\n",
      " 20  Garbagedisposalprocedure   1080 non-null   category\n",
      " 21  Accumilationofrefusal      1080 non-null   category\n",
      " 22  Psychoticsymptomsonset     1080 non-null   category\n",
      " 23  Psychoticsymptomsad        1080 non-null   category\n",
      " 24  WBCcount                   1080 non-null   Int64   \n",
      " 25  Ncount                     1080 non-null   Int64   \n",
      " 26  Lcount                     1080 non-null   Int64   \n",
      " 27  Plateletcount              1080 non-null   Int64   \n",
      " 28  RBC                        1080 non-null   Int64   \n",
      " 29  WPqPCRDiagnosis            1080 non-null   category\n",
      " 30  UrineqPCRDiagnosis         1080 non-null   category\n",
      " 31  Isolate                    1080 non-null   category\n",
      " 32  Final                      1080 non-null   category\n",
      " 33  HeadacheDays               1080 non-null   Int64   \n",
      " 34  RigorsDays                 1080 non-null   Int64   \n",
      " 35  NauseaDays                 1080 non-null   Int64   \n",
      " 36  VomitingDays               1080 non-null   Int64   \n",
      " 37  ConsufDays                 1080 non-null   Int64   \n",
      " 38  SkinrashDays               1080 non-null   Int64   \n",
      " 39  MucorashDays               1080 non-null   Int64   \n",
      " 40  ProstrationDays            1080 non-null   Int64   \n",
      " 41  diarrheaDays               1080 non-null   Int64   \n",
      " 42  OliguriaDays               1080 non-null   Int64   \n",
      " 43  AnuriaDays                 1080 non-null   Int64   \n",
      " 44  JaundiceDays               1080 non-null   Int64   \n",
      " 45  PhotophobiaDays            1080 non-null   Int64   \n",
      " 46  ConfusionDays              1080 non-null   Int64   \n",
      " 47  CoughDays                  1080 non-null   Int64   \n",
      " 48  HaemoptysisDays            1080 non-null   Int64   \n",
      " 49  SOBDays                    1080 non-null   Int64   \n",
      " 50  ChestpainDays              1080 non-null   Int64   \n",
      " 51  BleedingDays               1080 non-null   Int64   \n",
      " 52  hepatictenderDays          1080 non-null   Int64   \n",
      " 53  hepatomegalyDays           1080 non-null   Int64   \n",
      " 54  SpleenomegalyDays          1080 non-null   Int64   \n",
      " 55  LymphadenopathyDays        1080 non-null   Int64   \n",
      " 56  NeckstiffnessDays          1080 non-null   Int64   \n",
      " 57  animal_handle              1080 non-null   Int64   \n",
      " 58  any_outdoor_exposure       1080 non-null   Int64   \n",
      "dtypes: Int64(31), category(26), float64(1), int32(1)\n",
      "memory usage: 348.2 KB\n",
      "None\n"
     ]
    }
   ],
   "source": [
    "# Create a list to store the column names of highly correlated predictors to remove\n",
    "predictors_to_remove = []\n",
    "\n",
    "# Iterate over the higher correlation sets\n",
    "for variable, correlated_vars in higher_corr_sets.items():\n",
    "    # Add the correlated variables to the list of predictors to remove\n",
    "    predictors_to_remove.extend(correlated_vars)\n",
    "\n",
    "# Remove the highly correlated predictors from X\n",
    "filtered_data = imp_data.drop(columns=predictors_to_remove)\n",
    "\n",
    "# Print the updated X\n",
    "print(filtered_data.info())\n"
   ]
  },
  {
   "cell_type": "markdown",
   "id": "049055ef",
   "metadata": {},
   "source": [
    "# b) Model Building"
   ]
  },
  {
   "cell_type": "code",
   "execution_count": 45,
   "id": "6b7c07e6",
   "metadata": {
    "scrolled": true
   },
   "outputs": [
    {
     "data": {
      "text/html": [
       "<div>\n",
       "<style scoped>\n",
       "    .dataframe tbody tr th:only-of-type {\n",
       "        vertical-align: middle;\n",
       "    }\n",
       "\n",
       "    .dataframe tbody tr th {\n",
       "        vertical-align: top;\n",
       "    }\n",
       "\n",
       "    .dataframe thead th {\n",
       "        text-align: right;\n",
       "    }\n",
       "</style>\n",
       "<table border=\"1\" class=\"dataframe\">\n",
       "  <thead>\n",
       "    <tr style=\"text-align: right;\">\n",
       "      <th></th>\n",
       "      <th>Year</th>\n",
       "      <th>Month</th>\n",
       "      <th>Hospital</th>\n",
       "      <th>Sample</th>\n",
       "      <th>ICU</th>\n",
       "      <th>OPD</th>\n",
       "      <th>Sex</th>\n",
       "      <th>Age</th>\n",
       "      <th>Ethnicity</th>\n",
       "      <th>Income</th>\n",
       "      <th>...</th>\n",
       "      <th>SOBDays</th>\n",
       "      <th>ChestpainDays</th>\n",
       "      <th>BleedingDays</th>\n",
       "      <th>hepatictenderDays</th>\n",
       "      <th>hepatomegalyDays</th>\n",
       "      <th>SpleenomegalyDays</th>\n",
       "      <th>LymphadenopathyDays</th>\n",
       "      <th>NeckstiffnessDays</th>\n",
       "      <th>animal_handle</th>\n",
       "      <th>any_outdoor_exposure</th>\n",
       "    </tr>\n",
       "  </thead>\n",
       "  <tbody>\n",
       "    <tr>\n",
       "      <th>0</th>\n",
       "      <td>2018</td>\n",
       "      <td>11</td>\n",
       "      <td>7</td>\n",
       "      <td>1</td>\n",
       "      <td>2</td>\n",
       "      <td>2</td>\n",
       "      <td>2</td>\n",
       "      <td>53</td>\n",
       "      <td>1</td>\n",
       "      <td>35000.000000</td>\n",
       "      <td>...</td>\n",
       "      <td>0</td>\n",
       "      <td>0</td>\n",
       "      <td>4</td>\n",
       "      <td>10</td>\n",
       "      <td>0</td>\n",
       "      <td>0</td>\n",
       "      <td>0</td>\n",
       "      <td>0</td>\n",
       "      <td>2</td>\n",
       "      <td>1</td>\n",
       "    </tr>\n",
       "    <tr>\n",
       "      <th>1</th>\n",
       "      <td>2018</td>\n",
       "      <td>1</td>\n",
       "      <td>7</td>\n",
       "      <td>1</td>\n",
       "      <td>2</td>\n",
       "      <td>2</td>\n",
       "      <td>1</td>\n",
       "      <td>17</td>\n",
       "      <td>1</td>\n",
       "      <td>38212.663082</td>\n",
       "      <td>...</td>\n",
       "      <td>0</td>\n",
       "      <td>0</td>\n",
       "      <td>0</td>\n",
       "      <td>5</td>\n",
       "      <td>0</td>\n",
       "      <td>0</td>\n",
       "      <td>0</td>\n",
       "      <td>0</td>\n",
       "      <td>2</td>\n",
       "      <td>1</td>\n",
       "    </tr>\n",
       "    <tr>\n",
       "      <th>2</th>\n",
       "      <td>2018</td>\n",
       "      <td>5</td>\n",
       "      <td>7</td>\n",
       "      <td>1</td>\n",
       "      <td>2</td>\n",
       "      <td>2</td>\n",
       "      <td>1</td>\n",
       "      <td>47</td>\n",
       "      <td>1</td>\n",
       "      <td>40000.000000</td>\n",
       "      <td>...</td>\n",
       "      <td>0</td>\n",
       "      <td>0</td>\n",
       "      <td>0</td>\n",
       "      <td>0</td>\n",
       "      <td>0</td>\n",
       "      <td>0</td>\n",
       "      <td>0</td>\n",
       "      <td>4</td>\n",
       "      <td>2</td>\n",
       "      <td>1</td>\n",
       "    </tr>\n",
       "    <tr>\n",
       "      <th>3</th>\n",
       "      <td>2018</td>\n",
       "      <td>1</td>\n",
       "      <td>7</td>\n",
       "      <td>1</td>\n",
       "      <td>2</td>\n",
       "      <td>2</td>\n",
       "      <td>1</td>\n",
       "      <td>21</td>\n",
       "      <td>1</td>\n",
       "      <td>30000.000000</td>\n",
       "      <td>...</td>\n",
       "      <td>0</td>\n",
       "      <td>0</td>\n",
       "      <td>0</td>\n",
       "      <td>0</td>\n",
       "      <td>0</td>\n",
       "      <td>0</td>\n",
       "      <td>0</td>\n",
       "      <td>0</td>\n",
       "      <td>2</td>\n",
       "      <td>1</td>\n",
       "    </tr>\n",
       "    <tr>\n",
       "      <th>4</th>\n",
       "      <td>2016</td>\n",
       "      <td>8</td>\n",
       "      <td>7</td>\n",
       "      <td>1</td>\n",
       "      <td>2</td>\n",
       "      <td>1</td>\n",
       "      <td>1</td>\n",
       "      <td>43</td>\n",
       "      <td>1</td>\n",
       "      <td>38212.663082</td>\n",
       "      <td>...</td>\n",
       "      <td>0</td>\n",
       "      <td>0</td>\n",
       "      <td>0</td>\n",
       "      <td>0</td>\n",
       "      <td>0</td>\n",
       "      <td>0</td>\n",
       "      <td>0</td>\n",
       "      <td>0</td>\n",
       "      <td>2</td>\n",
       "      <td>1</td>\n",
       "    </tr>\n",
       "  </tbody>\n",
       "</table>\n",
       "<p>5 rows × 58 columns</p>\n",
       "</div>"
      ],
      "text/plain": [
       "   Year Month Hospital Sample ICU OPD Sex  Age Ethnicity        Income  ...  \\\n",
       "0  2018    11        7      1   2   2   2   53         1  35000.000000  ...   \n",
       "1  2018     1        7      1   2   2   1   17         1  38212.663082  ...   \n",
       "2  2018     5        7      1   2   2   1   47         1  40000.000000  ...   \n",
       "3  2018     1        7      1   2   2   1   21         1  30000.000000  ...   \n",
       "4  2016     8        7      1   2   1   1   43         1  38212.663082  ...   \n",
       "\n",
       "  SOBDays ChestpainDays BleedingDays hepatictenderDays hepatomegalyDays  \\\n",
       "0       0             0            4                10                0   \n",
       "1       0             0            0                 5                0   \n",
       "2       0             0            0                 0                0   \n",
       "3       0             0            0                 0                0   \n",
       "4       0             0            0                 0                0   \n",
       "\n",
       "  SpleenomegalyDays LymphadenopathyDays NeckstiffnessDays animal_handle  \\\n",
       "0                 0                   0                 0             2   \n",
       "1                 0                   0                 0             2   \n",
       "2                 0                   0                 4             2   \n",
       "3                 0                   0                 0             2   \n",
       "4                 0                   0                 0             2   \n",
       "\n",
       "  any_outdoor_exposure  \n",
       "0                    1  \n",
       "1                    1  \n",
       "2                    1  \n",
       "3                    1  \n",
       "4                    1  \n",
       "\n",
       "[5 rows x 58 columns]"
      ]
     },
     "execution_count": 45,
     "metadata": {},
     "output_type": "execute_result"
    }
   ],
   "source": [
    "X = filtered_data.loc[:,filtered_data.columns!= 'Final']\n",
    "y= filtered_data['Final']\n",
    "X.head()"
   ]
  },
  {
   "cell_type": "code",
   "execution_count": 46,
   "id": "cdc57de8",
   "metadata": {},
   "outputs": [
    {
     "name": "stdout",
     "output_type": "stream",
     "text": [
      "0       2\n",
      "1       1\n",
      "2       2\n",
      "3       2\n",
      "4       2\n",
      "       ..\n",
      "1379    2\n",
      "1381    1\n",
      "1383    2\n",
      "1384    2\n",
      "1386    1\n",
      "Name: Final, Length: 1080, dtype: category\n",
      "Categories (2, Int64): [1, 2]\n"
     ]
    },
    {
     "data": {
      "text/plain": [
       "0"
      ]
     },
     "execution_count": 46,
     "metadata": {},
     "output_type": "execute_result"
    }
   ],
   "source": [
    "print(y)\n",
    "y.isnull().sum()"
   ]
  },
  {
   "cell_type": "code",
   "execution_count": 47,
   "id": "dbb18cb6",
   "metadata": {},
   "outputs": [
    {
     "name": "stdout",
     "output_type": "stream",
     "text": [
      "Training Accuracy: 0.8935\n"
     ]
    }
   ],
   "source": [
    "from sklearn.linear_model import LogisticRegression\n",
    "from sklearn.metrics import accuracy_score\n",
    "from sklearn.preprocessing import OneHotEncoder, StandardScaler\n",
    "from sklearn.compose import ColumnTransformer\n",
    "from sklearn.pipeline import Pipeline\n",
    "from sklearn.impute import SimpleImputer\n",
    "from sklearn.preprocessing import LabelEncoder\n",
    "\n",
    "categorical_cols = X.select_dtypes(include='category').columns.tolist()\n",
    "numeric_cols = X.select_dtypes(include=['Int64', 'float64']).columns.tolist()\n",
    "\n",
    "preprocessor = ColumnTransformer(\n",
    "    transformers=[\n",
    "        ('cat', OneHotEncoder(handle_unknown='ignore'), categorical_cols),\n",
    "        ('num', StandardScaler(), numeric_cols)\n",
    "    ])\n",
    "\n",
    "\n",
    "label_encoder = LabelEncoder()\n",
    "y_encoded = label_encoder.fit_transform(y)\n",
    "#print(y_encoded)\n",
    "\n",
    "#apply Logistic regression model\n",
    "model = Pipeline(steps=[\n",
    "    ('preprocessor', preprocessor),\n",
    "    ('classifier', LogisticRegression(max_iter=1000))\n",
    "])\n",
    "\n",
    "\n",
    "model.fit(X,y_encoded)\n",
    "train_pred = model.predict(X)\n",
    "train_acc = accuracy_score(y_encoded, train_pred)\n",
    "print(f'Training Accuracy: {train_acc:.4f}')"
   ]
  },
  {
   "cell_type": "markdown",
   "id": "32af1044",
   "metadata": {},
   "source": [
    "### test data"
   ]
  },
  {
   "cell_type": "code",
   "execution_count": 48,
   "id": "8395361b",
   "metadata": {},
   "outputs": [],
   "source": [
    "testdata = pd.read_csv('test.csv')\n"
   ]
  },
  {
   "cell_type": "code",
   "execution_count": 49,
   "id": "0919e9c3",
   "metadata": {},
   "outputs": [],
   "source": [
    "col_names = {'Muscletendernessonset': 'Mustenderonset', 'Muscletendernessad':'Mustenderad', 'Vomitingadmission':'Vomitingad','Cnsuffusionad':'Consufad','Cnsuffusiononset':'Consufonset', \n",
    "             'Mucosalrashonset':'Mucorashonset','Mucosalrashad':'Mucorashad', 'Diarrhoeaonset':'diarrheaonset','Diarrhoeaad':'diarrheaad', 'OliguriaAd':'Oliguriaad', 'Haemoptasisonset':'Haemoptysisonset','Haemoptasisad':'Haemoptysisad', \"SOBadd\": 'SOBad' }\n",
    "testdata.rename(columns = col_names, inplace=True)\n",
    "\n",
    "colnames = ['Headache','Fever','Chills','Rigors','Musclepain','Mustender','Nausea','Vomiting','Consuf','Skinrash','Mucorash','Prostration','diarrhea','Oliguria','Anuria','Jaundice',\n",
    "            'Photophobia','Confusion','Cough','Haemoptysis','SOB','Chestpain','Bleeding']\n",
    "for col in colnames:\n",
    "  df = testdata[[col+'onset',col + '2',col + '3',col + '4',col + '5',col + '6',col + '7',col + '8',col + '9',col + '10', col + 'ad']]\n",
    "  df = df.replace(99, np.nan)\n",
    "  df['Days'] = None\n",
    "  for index, row in df.iterrows():\n",
    "    if df.loc[index].isna().all() == False:\n",
    "     df.at[index, 'Days'] = df.loc[index].eq(1).sum()\n",
    "    else:\n",
    "     df.at[index, 'Days'] = np.nan\n",
    "  testdata[col+'Days'] = df['Days']\n",
    "  testdata.drop([col+'onset',col + '2',col + '3',col + '4',col + '5',col + '6',col + '7',col + '8',col + '9',col + '10', col + 'ad'], axis=1, inplace=True)"
   ]
  },
  {
   "cell_type": "code",
   "execution_count": 50,
   "id": "c0ac81cc",
   "metadata": {},
   "outputs": [],
   "source": [
    "#'Psychoticsymptoms'\n",
    "col_names = {'Hepatictendernessad':'hepatictenderad', 'Hepatomegalyad':'hepatomegalyad', 'Spleenimegalyad':'Spleenomegalyad', 'Lympadenopathyad':'Lymphadenopathyad'}\n",
    "testdata.rename(columns = col_names, inplace=True)\n",
    "colnames = ['hepatictender','hepatomegaly','Spleenomegaly','Lymphadenopathy', 'Neckstiffness']\n",
    "for col in colnames:\n",
    "  df = testdata[[col + '2',col + '3',col + '4',col + '5',col + '6',col + '7',col + '8',col + '9',col + '10', col + 'ad']]\n",
    "  df = df.replace(99, np.nan)\n",
    "  df['Days'] = None\n",
    "  for index, row in df.iterrows():\n",
    "    if df.loc[index].isna().all() == False:\n",
    "     df.at[index, 'Days'] = df.loc[index].eq(1).sum()\n",
    "    else:\n",
    "     df.at[index, 'Days'] = np.nan\n",
    "  testdata[col+'Days'] = df['Days']\n",
    "  testdata.drop([col + '2',col + '3',col + '4',col + '5',col + '6',col + '7',col + '8',col + '9',col + '10', col + 'ad'], axis=1, inplace=True)"
   ]
  },
  {
   "cell_type": "code",
   "execution_count": 51,
   "id": "251ee6c0",
   "metadata": {},
   "outputs": [
    {
     "data": {
      "text/plain": [
       "Year                    0\n",
       "Month                   0\n",
       "Hospital                0\n",
       "Sample                  0\n",
       "ICU                    19\n",
       "                       ..\n",
       "hepatictenderDays      89\n",
       "hepatomegalyDays       88\n",
       "SpleenomegalyDays      89\n",
       "LymphadenopathyDays    89\n",
       "NeckstiffnessDays      85\n",
       "Length: 529, dtype: int64"
      ]
     },
     "execution_count": 51,
     "metadata": {},
     "output_type": "execute_result"
    }
   ],
   "source": [
    "testdata = testdata.drop('ID', axis=1)\n",
    "testdata = testdata.replace(99, np.nan)\n",
    "testdata.isna().sum()"
   ]
  },
  {
   "cell_type": "code",
   "execution_count": 52,
   "id": "fe924d23",
   "metadata": {},
   "outputs": [],
   "source": [
    "# Assuming data is your DataFrame\n",
    "testdata = testdata.replace('[a-zA-Z]+', np.nan, regex=True)\n",
    "testdata = testdata.replace(' ', np.nan)\n",
    "testdata = testdata.fillna(99)  # Replace missing values with 0\n",
    "testdata = testdata.astype(np.float64).astype(int)\n",
    "testdata = testdata.astype(int)\n",
    "testdata[testdata == 99] = pd.NA"
   ]
  },
  {
   "cell_type": "code",
   "execution_count": 53,
   "id": "a00b73bc",
   "metadata": {},
   "outputs": [],
   "source": [
    "selected_cols = ['HomeStreamrivercanaloranyotherrunningwatersource', \n",
    "                 'WorkplaceStreamrivercanaloranyotherrunningwatersource',\n",
    "                 'Homepondlaketankoranyotherstagnantwatersource',\n",
    "                 'WorkPlacepondlaketankoranyotherstagnantwatersource']\n",
    "       \n",
    "water_source = testdata[selected_cols]\n",
    "\n",
    "def water_area(row):\n",
    "    if row.isnull().all():\n",
    "        return pd.NA\n",
    "    elif (row == 1).any():\n",
    "        return 1\n",
    "    else:\n",
    "        return 2\n",
    "\n",
    "testdata['water_source'] = water_source.apply(water_area, axis=1)\n",
    "\n",
    "testdata.drop(selected_cols, axis=1, inplace=True)\n"
   ]
  },
  {
   "cell_type": "code",
   "execution_count": 54,
   "id": "7849d769",
   "metadata": {},
   "outputs": [
    {
     "name": "stdout",
     "output_type": "stream",
     "text": [
      "<class 'pandas.core.frame.DataFrame'>\n",
      "RangeIndex: 347 entries, 0 to 346\n",
      "Columns: 529 entries, Year to Cattle\n",
      "dtypes: float64(523), int32(5), object(1)\n",
      "memory usage: 1.4+ MB\n"
     ]
    }
   ],
   "source": [
    "animal1 = ['Rat', 'Dog', 'Cattle']\n",
    "\n",
    "for col in animal1:\n",
    "  testdata[col] =testdata[col + 'home'] +testdata[col + 'Workplace'] + testdata[col + 'Neighbourhood']\n",
    "\n",
    "testdata.info()"
   ]
  },
  {
   "cell_type": "code",
   "execution_count": 55,
   "id": "4a73de8f",
   "metadata": {},
   "outputs": [],
   "source": [
    "testdata['urumeeya'] = testdata['Urumeeyahome'] + testdata['Urumeeyaworkplace'] + testdata['UrimeeyaNeighbourhood']\n",
    "testdata['otherRhodents'] = testdata['OtherrhodentsHome'] + testdata['OtherRhoddentsWorkplace'] + testdata['OtherRhodentsNeighbourhood']\n",
    "\n",
    "testdata.drop(['UrimeeyaNeighbourhood','Urumeeyahome','Urumeeyaworkplace', 'OtherrhodentsHome', 'OtherRhoddentsWorkplace', 'OtherRhodentsNeighbourhood'], axis = 1, inplace=True)"
   ]
  },
  {
   "cell_type": "code",
   "execution_count": 56,
   "id": "2a2db358",
   "metadata": {},
   "outputs": [],
   "source": [
    "    \n",
    "animal3 = ['Pig','Goat']\n",
    "for col3 in animal3:\n",
    "    testdata[col3] = testdata[col3 + 'Home'] +testdata[col3 + 'Workplace'] + testdata[col3 + 'Neighbourhood']\n",
    "  \n",
    "testdata.drop(['Rathome','RatWorkplace','RatNeighbourhood','Cathome','Catworkplace',\n",
    "           'CatNeighbourhood','Doghome','DogWorkplace','DogNeighbourhood',\n",
    "           'Cattlehome','CattleWorkplace','CattleNeighbourhood','PigHome',\n",
    "           'PigWorkplace','PigNeighbourhood','GoatHome','GoatWorkplace',\n",
    "           'GoatNeighbourhood'], axis = 1, inplace = True)\n"
   ]
  },
  {
   "cell_type": "code",
   "execution_count": 57,
   "id": "aee35cc8",
   "metadata": {},
   "outputs": [
    {
     "name": "stdout",
     "output_type": "stream",
     "text": [
      "<class 'pandas.core.frame.DataFrame'>\n",
      "RangeIndex: 347 entries, 0 to 346\n",
      "Columns: 509 entries, Year to Goat\n",
      "dtypes: float64(503), int32(5), object(1)\n",
      "memory usage: 1.3+ MB\n"
     ]
    }
   ],
   "source": [
    "testdata.info()"
   ]
  },
  {
   "cell_type": "code",
   "execution_count": 58,
   "id": "021ab109",
   "metadata": {},
   "outputs": [],
   "source": [
    "testdata = testdata.drop(columns_to_drop_1, axis=1)"
   ]
  },
  {
   "cell_type": "code",
   "execution_count": 59,
   "id": "a0adb605",
   "metadata": {},
   "outputs": [],
   "source": [
    "testdata = testdata.rename(columns={'CattleHandle':'handleCattle','BuffaloHandle':'handleBuffalo','Goathandle':'handleGoat','Pighandle':'handlePig','Doghandle':'handleDog','Cathandle':'handleCat'})\n"
   ]
  },
  {
   "cell_type": "code",
   "execution_count": 60,
   "id": "ac29b597",
   "metadata": {},
   "outputs": [],
   "source": [
    "animal = ['Cattle', 'Buffalo', 'Goat', 'Pig', 'Cat', 'Dog']\n",
    "animal_handle = testdata[['handle' + col for col in animal]]\n",
    "\n",
    "def handle(row):\n",
    "    if row.isnull().all():\n",
    "        return pd.NA\n",
    "    elif (row == 1).any():\n",
    "        return 1\n",
    "    else:\n",
    "        return 2\n",
    "\n",
    "testdata['animal_handle'] = animal_handle.apply(handle, axis=1)\n",
    "\n",
    "testdata.drop(['handle' + col for col in animal], axis=1, inplace=True)\n"
   ]
  },
  {
   "cell_type": "code",
   "execution_count": 61,
   "id": "d1934011",
   "metadata": {},
   "outputs": [],
   "source": [
    "testdata = testdata.rename(columns={'BushesExposure': 'Bushesexposure'})\n",
    "\n",
    "outdoor = ['Marshland', 'Wetsoil', 'Flood', 'Forest', 'Bushes', 'Otheragri', 'Gardening',\n",
    "           'Otheroutdoorwork', 'Naturalrunningwater', 'Stagnantwater', 'Manmaderunningwater',\n",
    "           'Drains', 'Otherwater', 'Paddyfield']\n",
    "\n",
    "any_outdoor_exposure = testdata[[col + 'exposure' for col in outdoor]]\n",
    "\n",
    "def exposure(row):\n",
    "    if row.isnull().all():\n",
    "        return pd.NA\n",
    "    elif (row == 1).any():\n",
    "        return 1\n",
    "    else:\n",
    "        return 2\n",
    "\n",
    "testdata['any_outdoor_exposure'] = any_outdoor_exposure.apply(exposure, axis=1)\n",
    "\n",
    "testdata.drop([col + 'exposure' for col in outdoor], axis=1, inplace=True)\n"
   ]
  },
  {
   "cell_type": "code",
   "execution_count": 62,
   "id": "b55d0156",
   "metadata": {},
   "outputs": [],
   "source": [
    "#Dont know whether 99 is NA or actual value\n",
    "drop_cols = ['PRad','SBPadd','DBPadd','N','L','PCV','Na','K','AST','ALT','S.creatinine','WBC_first_day']\n",
    "testdata.drop(drop_cols, axis=1, inplace=True)\n",
    "\n",
    "#all entries are 1--> no variation\n",
    "testdata = testdata.drop('MAT_set_1', axis=1)\n",
    "\n",
    "#isolate var has 98 as missing values\n",
    "testdata['Isolate'] = testdata['Isolate'].replace(98, np.nan)\n"
   ]
  },
  {
   "cell_type": "code",
   "execution_count": 63,
   "id": "b0259d88",
   "metadata": {
    "scrolled": true
   },
   "outputs": [
    {
     "name": "stdout",
     "output_type": "stream",
     "text": [
      "<class 'pandas.core.frame.DataFrame'>\n",
      "RangeIndex: 347 entries, 0 to 346\n",
      "Data columns (total 62 columns):\n",
      " #   Column                     Non-Null Count  Dtype\n",
      "---  ------                     --------------  -----\n",
      " 0   Year                       347 non-null    Int64\n",
      " 1   Month                      347 non-null    Int64\n",
      " 2   Hospital                   347 non-null    Int64\n",
      " 3   Sample                     347 non-null    Int64\n",
      " 4   ICU                        328 non-null    Int64\n",
      " 5   OPD                        328 non-null    Int64\n",
      " 6   Sex                        312 non-null    Int64\n",
      " 7   Age                        304 non-null    Int64\n",
      " 8   Ethnicity                  312 non-null    Int64\n",
      " 9   Income                     231 non-null    Int64\n",
      " 10  Education                  257 non-null    Int64\n",
      " 11  TertiaryEducation          257 non-null    Int64\n",
      " 12  Prophylactics              269 non-null    Int64\n",
      " 13  Pasttreatments             272 non-null    Int64\n",
      " 14  Pastantibiotics            270 non-null    Int64\n",
      " 15  Chronicillness             268 non-null    Int64\n",
      " 16  Possibleexposure           270 non-null    Int64\n",
      " 17  Usualdrinkingwatersource   91 non-null     Int64\n",
      " 18  Usualbathingwatersource    91 non-null     Int64\n",
      " 19  Sourceofwaterforhousehold  91 non-null     Int64\n",
      " 20  Garbagedisposalprocedure   91 non-null     Int64\n",
      " 21  Accumilationofrefusal      91 non-null     Int64\n",
      " 22  Psychoticsymptomsonset     263 non-null    Int64\n",
      " 23  Psychoticsymptomsad        247 non-null    Int64\n",
      " 24  WBCcount                   239 non-null    Int64\n",
      " 25  Ncount                     178 non-null    Int64\n",
      " 26  Lcount                     174 non-null    Int64\n",
      " 27  Plateletcount              180 non-null    Int64\n",
      " 28  RBC                        155 non-null    Int64\n",
      " 29  WPqPCRDiagnosis            300 non-null    Int64\n",
      " 30  UrineqPCRDiagnosis         121 non-null    Int64\n",
      " 31  Isolate                    254 non-null    Int64\n",
      " 32  HeadacheDays               272 non-null    Int64\n",
      " 33  FeverDays                  273 non-null    Int64\n",
      " 34  ChillsDays                 272 non-null    Int64\n",
      " 35  RigorsDays                 272 non-null    Int64\n",
      " 36  MusclepainDays             273 non-null    Int64\n",
      " 37  MustenderDays              273 non-null    Int64\n",
      " 38  NauseaDays                 272 non-null    Int64\n",
      " 39  VomitingDays               271 non-null    Int64\n",
      " 40  ConsufDays                 272 non-null    Int64\n",
      " 41  SkinrashDays               272 non-null    Int64\n",
      " 42  MucorashDays               272 non-null    Int64\n",
      " 43  ProstrationDays            272 non-null    Int64\n",
      " 44  diarrheaDays               272 non-null    Int64\n",
      " 45  OliguriaDays               273 non-null    Int64\n",
      " 46  AnuriaDays                 271 non-null    Int64\n",
      " 47  JaundiceDays               272 non-null    Int64\n",
      " 48  PhotophobiaDays            271 non-null    Int64\n",
      " 49  ConfusionDays              271 non-null    Int64\n",
      " 50  CoughDays                  272 non-null    Int64\n",
      " 51  HaemoptysisDays            271 non-null    Int64\n",
      " 52  SOBDays                    271 non-null    Int64\n",
      " 53  ChestpainDays              271 non-null    Int64\n",
      " 54  BleedingDays               269 non-null    Int64\n",
      " 55  hepatictenderDays          258 non-null    Int64\n",
      " 56  hepatomegalyDays           259 non-null    Int64\n",
      " 57  SpleenomegalyDays          258 non-null    Int64\n",
      " 58  LymphadenopathyDays        258 non-null    Int64\n",
      " 59  NeckstiffnessDays          262 non-null    Int64\n",
      " 60  animal_handle              91 non-null     Int64\n",
      " 61  any_outdoor_exposure       99 non-null     Int64\n",
      "dtypes: Int64(62)\n",
      "memory usage: 189.2 KB\n"
     ]
    }
   ],
   "source": [
    "testdata = testdata.astype('Int64')\n",
    "testdata.info()"
   ]
  },
  {
   "cell_type": "code",
   "execution_count": 64,
   "id": "1d4a344b",
   "metadata": {},
   "outputs": [],
   "source": [
    "cat_columns_to_convert = ['Year','Month','Hospital','Sample','ICU','OPD','Sex',\n",
    "                          'Ethnicity','Education','TertiaryEducation','Prophylactics',\n",
    "                          'Pasttreatments','Pastantibiotics','Chronicillness',\n",
    "                          'Possibleexposure','Psychoticsymptomsonset','Psychoticsymptomsad',\n",
    "                          'WPqPCRDiagnosis','Isolate','Usualdrinkingwatersource','Usualbathingwatersource',\n",
    "                         'Sourceofwaterforhousehold','Garbagedisposalprocedure','Accumilationofrefusal']\n",
    "\n",
    "testdata[cat_columns_to_convert] =testdata[cat_columns_to_convert].astype('Int64')\n",
    "testdata[cat_columns_to_convert] = testdata[cat_columns_to_convert].astype('category')\n",
    "\n",
    "num1_columns_to_convert = ['Age','Income']\n",
    "testdata[num1_columns_to_convert] = testdata[num1_columns_to_convert].astype('Int64')\n",
    "\n",
    "num_columns_to_convert  = testdata.columns[data.columns.get_loc('WBCcount'):] #columns starting from 'WBCcount' and onwards.\n",
    "testdata[num_columns_to_convert] = testdata[num_columns_to_convert].astype('Int64')\n",
    "\n",
    "\n",
    "cat1_columns_to_convert = ['WPqPCRDiagnosis','UrineqPCRDiagnosis','Isolate']\n",
    "testdata[cat1_columns_to_convert] = testdata[cat1_columns_to_convert].astype('category')\n",
    "\n"
   ]
  },
  {
   "cell_type": "markdown",
   "id": "87512c1d",
   "metadata": {},
   "source": [
    "# c) Predictions for Final for the test data"
   ]
  },
  {
   "cell_type": "code",
   "execution_count": 65,
   "id": "ad95846f",
   "metadata": {},
   "outputs": [
    {
     "name": "stdout",
     "output_type": "stream",
     "text": [
      "[1 2 2 2 2 1 2 2 2 2 2 2 2 2 2 2 2 2 2 2 2 2 2 2 2 2 2 2 2 2 2 2 2 2 2 2 2\n",
      " 2 2 1 2 2 2 2 2 2 2 2 2 2 2 2 2 2 1 1 1 2 2 2 2 2 1 2 2 1 1 1 2 2 2 2 1 2\n",
      " 2 1 2 2 2 2 2 1 2 2 2 2 2 2 2 2 2 2 2 2 2 2 2 2 2 2 2 2 2 2 2 2 2 2 1 2 2\n",
      " 2 2 2 2 2 2 2 1 2 2 2 2 2 2 2 2 2 2 2 2 2 2 2 2 2 2 2 1 2 2 2 2 2 2 2 2 1\n",
      " 1 1 1 2 1 1 1 2 2 2 2 2 2 2 2 2 2 2 2 1 1 1 1 1 1 2 2 2 1 1 1 2 2 2 1 2 2\n",
      " 2 2 2 2 1 1 1 2 2 2 2 1 2 1 2 1 2 1 2 1 1 1 1 1 1 1 1 1 2 1 2 2 2 2 2 2 2\n",
      " 2 1 2 2 2 2 2 2 1 2 2 2 1 1 1 1 1 1 1 2 2 2 2 2 2 2 2 1 2 1 1 1 2 2 2 1 2\n",
      " 2 1 2 2 2 1 1 2 2 2 2 1 1 2 2 2 2 1 1 1 2 2 2 1 2 1 2 2 2 2 2 2 2 2 1 2 1\n",
      " 2 1 2 1 2 2 2 2 2 2 2 2 2 2 1 1 2 2 2 2 1 2 2 2 2 2 1 1 1 1 1 1 1 1 1 1 2\n",
      " 1 2 1 1 2 2 2 1 2 1 2 2 1 2]\n"
     ]
    }
   ],
   "source": [
    "imp_testdata = testdata.copy()\n",
    "\n",
    "from sklearn.impute import SimpleImputer\n",
    "\n",
    "# Create an instance of SimpleImputer with strategy='mean'\n",
    "imputer = SimpleImputer(strategy='mean')\n",
    "\n",
    "# Fit the imputer on the 'income' column and transform the testdata\n",
    "imp_testdata['Income'] = imputer.fit_transform(imp_testdata[['Income']])\n",
    "\n",
    "imputer = KNNImputer(n_neighbors=5)\n",
    "\n",
    "# Fit the imputer on the testdata and transform the 'age' column\n",
    "imp_testdata['Age'] = imputer.fit_transform(imp_testdata[['Age']])\n",
    "# Round the imputed values to the nearest integer\n",
    "imp_testdata['Age'] = imp_testdata['Age'].round().astype(int)\n",
    "\n",
    "\n",
    "categorical_columns = testdata.select_dtypes(include='category').columns.tolist()\n",
    "int64_columns = testdata.select_dtypes(include='Int64').columns.tolist()\n",
    "\n",
    "testdata_imputed = imp_testdata[categorical_columns + int64_columns].fillna(imp_testdata[categorical_columns + int64_columns].mode().iloc[0])\n",
    "\n",
    "# Update the original testdataframe with the imputed values\n",
    "imp_testdata[categorical_columns + int64_columns] = testdata_imputed\n",
    "\n",
    "y_test_pred_labeled = model.predict(imp_testdata)\n",
    "y_test_pred =y_test_pred_labeled+1\n",
    "print(y_test_pred)"
   ]
  },
  {
   "cell_type": "code",
   "execution_count": 66,
   "id": "8dd44c0e",
   "metadata": {},
   "outputs": [],
   "source": [
    "sample = pd.read_csv('sample_submission.csv')"
   ]
  },
  {
   "cell_type": "code",
   "execution_count": 67,
   "id": "661fa037",
   "metadata": {},
   "outputs": [
    {
     "name": "stdout",
     "output_type": "stream",
     "text": [
      "Accuracy: 0.5561959654178674\n"
     ]
    }
   ],
   "source": [
    "from sklearn.metrics import accuracy_score\n",
    "\n",
    "accuracy = accuracy_score(y_test_pred, sample['Final'])\n",
    "print(\"Accuracy:\", accuracy)"
   ]
  },
  {
   "cell_type": "code",
   "execution_count": 68,
   "id": "1591b89e",
   "metadata": {},
   "outputs": [
    {
     "name": "stdout",
     "output_type": "stream",
     "text": [
      "   ID  Final\n",
      "0   1      1\n",
      "1   2      2\n",
      "2   3      2\n",
      "3   4      2\n",
      "4   5      2\n",
      "<class 'pandas.core.frame.DataFrame'>\n",
      "RangeIndex: 347 entries, 0 to 346\n",
      "Data columns (total 2 columns):\n",
      " #   Column  Non-Null Count  Dtype\n",
      "---  ------  --------------  -----\n",
      " 0   ID      347 non-null    int64\n",
      " 1   Final   347 non-null    int32\n",
      "dtypes: int32(1), int64(1)\n",
      "memory usage: 4.2 KB\n"
     ]
    }
   ],
   "source": [
    "imp_testdata['Final'] =y_test_pred\n",
    "# Select the two columns you want to concatenate\n",
    "column1 = sample['ID']\n",
    "column2 = imp_testdata['Final']\n",
    "\n",
    "# Concatenate the columns into a new dataframe\n",
    "new_df = pd.concat([column1,column2], axis=1)\n",
    "\n",
    "# Print the new dataframe\n",
    "print(new_df.head())\n",
    "new_df.info()\n"
   ]
  },
  {
   "cell_type": "raw",
   "id": "8dfcbda9",
   "metadata": {},
   "source": [
    "new_df.to_csv(\"Assi1_logi_fm_pred.csv\", index = False)"
   ]
  },
  {
   "cell_type": "code",
   "execution_count": null,
   "id": "94336cfb",
   "metadata": {},
   "outputs": [],
   "source": []
  }
 ],
 "metadata": {
  "kernelspec": {
   "display_name": "Python 3 (ipykernel)",
   "language": "python",
   "name": "python3"
  },
  "language_info": {
   "codemirror_mode": {
    "name": "ipython",
    "version": 3
   },
   "file_extension": ".py",
   "mimetype": "text/x-python",
   "name": "python",
   "nbconvert_exporter": "python",
   "pygments_lexer": "ipython3",
   "version": "3.9.13"
  }
 },
 "nbformat": 4,
 "nbformat_minor": 5
}
